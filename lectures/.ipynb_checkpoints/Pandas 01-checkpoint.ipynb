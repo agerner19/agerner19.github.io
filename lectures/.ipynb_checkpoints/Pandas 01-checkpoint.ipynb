{
 "cells": [
  {
   "cell_type": "markdown",
   "metadata": {},
   "source": [
    "# Pandas (Python Data Analysis Library)"
   ]
  },
  {
   "cell_type": "markdown",
   "metadata": {},
   "source": [
    "## Series\n",
    "Series are going to be a new datatype that are similar to numpy arrays, as they are one type, but take on a slightly different approach to manipulating data. To instantiate them we see a similar format to arrays - `series = Series([val_1, val_2, val_3, ...])`\n",
    "\n",
    " - Series have an index attribute, which is the row location of the data\n",
    " - Manipulating a Series won't affect the index"
   ]
  },
  {
   "cell_type": "code",
   "execution_count": 1,
   "metadata": {},
   "outputs": [
    {
     "name": "stdout",
     "output_type": "stream",
     "text": [
      "0   -2\n",
      "1    1\n",
      "2    0\n",
      "3   -1\n",
      "4    2\n",
      "5   -1\n",
      "dtype: int64\n"
     ]
    }
   ],
   "source": [
    "import pandas as pd # same as numpy, you'll usually see this as pd\n",
    "from pandas import Series, DataFrame\n",
    "\n",
    "s1 = Series([-2, 1, 0, -1, 2, -1])\n",
    "print(s1) # elements on the left are the index, also notice it incorporates a dtype (Numpy)"
   ]
  },
  {
   "cell_type": "markdown",
   "metadata": {},
   "source": [
    "Similar to a dictionary, *Series* have **indexes** and **values**. If an index isn't provided, it is just defaults to the elements position."
   ]
  },
  {
   "cell_type": "code",
   "execution_count": 2,
   "metadata": {},
   "outputs": [
    {
     "name": "stdout",
     "output_type": "stream",
     "text": [
      "\n",
      "**************Index/Values:\n",
      "RangeIndex(start=0, stop=6, step=1)\n",
      "[-2  1  0 -1  2 -1]\n"
     ]
    }
   ],
   "source": [
    "# Similar to a dictionary it has index, values\n",
    "print(\"\\n**************Index/Values:\")\n",
    "print(s1.index)\n",
    "print(s1.values)"
   ]
  },
  {
   "cell_type": "markdown",
   "metadata": {},
   "source": [
    "We can, however, provide our own **indexes**"
   ]
  },
  {
   "cell_type": "code",
   "execution_count": 3,
   "metadata": {},
   "outputs": [
    {
     "name": "stdout",
     "output_type": "stream",
     "text": [
      "\n",
      "**************Defining Indexes:\n",
      "a   -2\n",
      "b    1\n",
      "c    0\n",
      "d   -1\n",
      "e    2\n",
      "f   -1\n",
      "dtype: int64\n"
     ]
    }
   ],
   "source": [
    "print(\"\\n**************Defining Indexes:\")\n",
    "s2 = Series([-2, 1, 0, -1, 2, -1], index=['a', 'b', 'c', 'd', 'e', 'f'])\n",
    "print(s2)"
   ]
  },
  {
   "cell_type": "markdown",
   "metadata": {},
   "source": [
    "These **indexes** stay the same, regardless of any operations"
   ]
  },
  {
   "cell_type": "code",
   "execution_count": 4,
   "metadata": {},
   "outputs": [
    {
     "data": {
      "text/plain": [
       "a   -2\n",
       "d   -1\n",
       "f   -1\n",
       "c    0\n",
       "b    1\n",
       "e    2\n",
       "dtype: int64"
      ]
     },
     "execution_count": 4,
     "metadata": {},
     "output_type": "execute_result"
    }
   ],
   "source": [
    "s2.sort_values()"
   ]
  },
  {
   "cell_type": "markdown",
   "metadata": {},
   "source": [
    "### Indexes Cont.\n",
    " - Indexes don't have to be numeric nor do they have to be unique\n",
    " - Indexes control a lot of the logic on how Series interact with each other"
   ]
  },
  {
   "cell_type": "code",
   "execution_count": 5,
   "metadata": {},
   "outputs": [
    {
     "data": {
      "text/plain": [
       "a   -1\n",
       "b    2\n",
       "c    1\n",
       "d    0\n",
       "e    3\n",
       "f    0\n",
       "dtype: int64"
      ]
     },
     "execution_count": 5,
     "metadata": {},
     "output_type": "execute_result"
    }
   ],
   "source": [
    "s2 + 1"
   ]
  },
  {
   "cell_type": "code",
   "execution_count": null,
   "metadata": {},
   "outputs": [],
   "source": [
    "s3 = Series([-2, 1, 0, -1, 2, -1], index=['a', 'a', 'c', 'd', 'e', 'e'])\n",
    "s3"
   ]
  },
  {
   "cell_type": "markdown",
   "metadata": {},
   "source": [
    "For the most part, *Series* effectively work like **numpy dicts**"
   ]
  },
  {
   "cell_type": "code",
   "execution_count": 9,
   "metadata": {},
   "outputs": [
    {
     "data": {
      "text/plain": [
       "a    23.0\n",
       "f     9.0\n",
       "b   -21.0\n",
       "e     3.0\n",
       "dtype: float64"
      ]
     },
     "execution_count": 9,
     "metadata": {},
     "output_type": "execute_result"
    }
   ],
   "source": [
    "d = {'a': 23, 'f':9, 'b': -21, 'e': 3.0}\n",
    "s1 = Series(d)\n",
    "s1"
   ]
  },
  {
   "cell_type": "markdown",
   "metadata": {},
   "source": [
    "## Index/Value Existence\n",
    "To find if a **value** exists, it must be compared against the `series.values`"
   ]
  },
  {
   "cell_type": "code",
   "execution_count": 10,
   "metadata": {},
   "outputs": [
    {
     "name": "stdout",
     "output_type": "stream",
     "text": [
      "a    23.0\n",
      "f     9.0\n",
      "b   -21.0\n",
      "e     3.0\n",
      "dtype: float64\n",
      "True\n",
      "True\n"
     ]
    }
   ],
   "source": [
    "print(s1)\n",
    "print('a' in s1) # Only works for index\n",
    "print(23 in s1.values)"
   ]
  },
  {
   "cell_type": "markdown",
   "metadata": {},
   "source": [
    "### Adding *Series* together:\n",
    "We can add series together, but if a value doesn't exist in both it's Nan"
   ]
  },
  {
   "cell_type": "code",
   "execution_count": 11,
   "metadata": {},
   "outputs": [
    {
     "name": "stdout",
     "output_type": "stream",
     "text": [
      "a    23.0\n",
      "f     9.0\n",
      "b   -21.0\n",
      "e     3.0\n",
      "dtype: float64\n",
      "\n",
      "a   -2\n",
      "b    1\n",
      "c    0\n",
      "d   -1\n",
      "e    2\n",
      "f   -1\n",
      "dtype: int64\n",
      "\n",
      "a    21.0\n",
      "b   -20.0\n",
      "c     NaN\n",
      "d     NaN\n",
      "e     5.0\n",
      "f     8.0\n",
      "dtype: float64\n"
     ]
    }
   ],
   "source": [
    "print(s1)\n",
    "print()\n",
    "print(s2)\n",
    "print()\n",
    "print(s1 + s2)"
   ]
  },
  {
   "cell_type": "markdown",
   "metadata": {},
   "source": [
    "## DataFrames\n",
    "A dataframe is a tabular represenation of data. It functions as a table-like representation of data, that is comprised of a number of *Series*. This means\n",
    "that the columns can represent different types of data, but each column must be of one type. This makes a dataframe align with CSV's and Relational Databases very easily, but also means that operations across columns can be rather seamless.\n",
    "\n",
    "### Instantiating DataFrames\n",
    "There are a number of ways we can create a *DataFrame*:\n",
    " - *Dictionaries* of *Lists*\n",
    " - CSV's\n",
    " - SQL queries"
   ]
  },
  {
   "cell_type": "code",
   "execution_count": 12,
   "metadata": {},
   "outputs": [
    {
     "data": {
      "text/html": [
       "<div>\n",
       "<style scoped>\n",
       "    .dataframe tbody tr th:only-of-type {\n",
       "        vertical-align: middle;\n",
       "    }\n",
       "\n",
       "    .dataframe tbody tr th {\n",
       "        vertical-align: top;\n",
       "    }\n",
       "\n",
       "    .dataframe thead th {\n",
       "        text-align: right;\n",
       "    }\n",
       "</style>\n",
       "<table border=\"1\" class=\"dataframe\">\n",
       "  <thead>\n",
       "    <tr style=\"text-align: right;\">\n",
       "      <th></th>\n",
       "      <th>state</th>\n",
       "      <th>year</th>\n",
       "      <th>pop</th>\n",
       "    </tr>\n",
       "  </thead>\n",
       "  <tbody>\n",
       "    <tr>\n",
       "      <td>0</td>\n",
       "      <td>Ohio</td>\n",
       "      <td>2000</td>\n",
       "      <td>1.50</td>\n",
       "    </tr>\n",
       "    <tr>\n",
       "      <td>1</td>\n",
       "      <td>Ohio</td>\n",
       "      <td>2001</td>\n",
       "      <td>1.70</td>\n",
       "    </tr>\n",
       "    <tr>\n",
       "      <td>2</td>\n",
       "      <td>Ohio</td>\n",
       "      <td>2002</td>\n",
       "      <td>3.60</td>\n",
       "    </tr>\n",
       "    <tr>\n",
       "      <td>3</td>\n",
       "      <td>Nevada</td>\n",
       "      <td>2001</td>\n",
       "      <td>2.40</td>\n",
       "    </tr>\n",
       "    <tr>\n",
       "      <td>4</td>\n",
       "      <td>Nevada</td>\n",
       "      <td>2002</td>\n",
       "      <td>2.90</td>\n",
       "    </tr>\n",
       "    <tr>\n",
       "      <td>5</td>\n",
       "      <td>Montana</td>\n",
       "      <td>2000</td>\n",
       "      <td>0.80</td>\n",
       "    </tr>\n",
       "    <tr>\n",
       "      <td>6</td>\n",
       "      <td>Montana</td>\n",
       "      <td>2001</td>\n",
       "      <td>0.75</td>\n",
       "    </tr>\n",
       "    <tr>\n",
       "      <td>7</td>\n",
       "      <td>Montana</td>\n",
       "      <td>2002</td>\n",
       "      <td>0.90</td>\n",
       "    </tr>\n",
       "  </tbody>\n",
       "</table>\n",
       "</div>"
      ],
      "text/plain": [
       "     state  year   pop\n",
       "0     Ohio  2000  1.50\n",
       "1     Ohio  2001  1.70\n",
       "2     Ohio  2002  3.60\n",
       "3   Nevada  2001  2.40\n",
       "4   Nevada  2002  2.90\n",
       "5  Montana  2000  0.80\n",
       "6  Montana  2001  0.75\n",
       "7  Montana  2002  0.90"
      ]
     },
     "execution_count": 12,
     "metadata": {},
     "output_type": "execute_result"
    }
   ],
   "source": [
    "# Can construct a dataframe from a dictionary of lists\n",
    "data = {'state': ['Ohio', 'Ohio', 'Ohio', 'Nevada', 'Nevada', 'Montana', 'Montana', 'Montana'],\n",
    "       'year': [2000, 2001, 2002, 2001, 2002, 2000, 2001, 2002],\n",
    "       'pop': [1.5, 1.7, 3.6, 2.4, 2.9, 0.8, 0.75, 0.9]}\n",
    "\n",
    "df = DataFrame(data)\n",
    "df # Jupyter has nice formatting for dataframes"
   ]
  },
  {
   "cell_type": "markdown",
   "metadata": {},
   "source": [
    "We can alter the resulting *DataFrame* depending on how we instantiate it:"
   ]
  },
  {
   "cell_type": "code",
   "execution_count": 13,
   "metadata": {},
   "outputs": [
    {
     "name": "stdout",
     "output_type": "stream",
     "text": [
      "\n",
      "**************Specifiying column order:\n"
     ]
    },
    {
     "data": {
      "text/html": [
       "<div>\n",
       "<style scoped>\n",
       "    .dataframe tbody tr th:only-of-type {\n",
       "        vertical-align: middle;\n",
       "    }\n",
       "\n",
       "    .dataframe tbody tr th {\n",
       "        vertical-align: top;\n",
       "    }\n",
       "\n",
       "    .dataframe thead th {\n",
       "        text-align: right;\n",
       "    }\n",
       "</style>\n",
       "<table border=\"1\" class=\"dataframe\">\n",
       "  <thead>\n",
       "    <tr style=\"text-align: right;\">\n",
       "      <th></th>\n",
       "      <th>year</th>\n",
       "      <th>state</th>\n",
       "      <th>pop</th>\n",
       "      <th>ext</th>\n",
       "    </tr>\n",
       "  </thead>\n",
       "  <tbody>\n",
       "    <tr>\n",
       "      <td>0</td>\n",
       "      <td>2000</td>\n",
       "      <td>Ohio</td>\n",
       "      <td>1.50</td>\n",
       "      <td>NaN</td>\n",
       "    </tr>\n",
       "    <tr>\n",
       "      <td>1</td>\n",
       "      <td>2001</td>\n",
       "      <td>Ohio</td>\n",
       "      <td>1.70</td>\n",
       "      <td>NaN</td>\n",
       "    </tr>\n",
       "    <tr>\n",
       "      <td>2</td>\n",
       "      <td>2002</td>\n",
       "      <td>Ohio</td>\n",
       "      <td>3.60</td>\n",
       "      <td>NaN</td>\n",
       "    </tr>\n",
       "    <tr>\n",
       "      <td>3</td>\n",
       "      <td>2001</td>\n",
       "      <td>Nevada</td>\n",
       "      <td>2.40</td>\n",
       "      <td>NaN</td>\n",
       "    </tr>\n",
       "    <tr>\n",
       "      <td>4</td>\n",
       "      <td>2002</td>\n",
       "      <td>Nevada</td>\n",
       "      <td>2.90</td>\n",
       "      <td>NaN</td>\n",
       "    </tr>\n",
       "    <tr>\n",
       "      <td>5</td>\n",
       "      <td>2000</td>\n",
       "      <td>Montana</td>\n",
       "      <td>0.80</td>\n",
       "      <td>NaN</td>\n",
       "    </tr>\n",
       "    <tr>\n",
       "      <td>6</td>\n",
       "      <td>2001</td>\n",
       "      <td>Montana</td>\n",
       "      <td>0.75</td>\n",
       "      <td>NaN</td>\n",
       "    </tr>\n",
       "    <tr>\n",
       "      <td>7</td>\n",
       "      <td>2002</td>\n",
       "      <td>Montana</td>\n",
       "      <td>0.90</td>\n",
       "      <td>NaN</td>\n",
       "    </tr>\n",
       "  </tbody>\n",
       "</table>\n",
       "</div>"
      ],
      "text/plain": [
       "   year    state   pop  ext\n",
       "0  2000     Ohio  1.50  NaN\n",
       "1  2001     Ohio  1.70  NaN\n",
       "2  2002     Ohio  3.60  NaN\n",
       "3  2001   Nevada  2.40  NaN\n",
       "4  2002   Nevada  2.90  NaN\n",
       "5  2000  Montana  0.80  NaN\n",
       "6  2001  Montana  0.75  NaN\n",
       "7  2002  Montana  0.90  NaN"
      ]
     },
     "execution_count": 13,
     "metadata": {},
     "output_type": "execute_result"
    }
   ],
   "source": [
    "print(\"\\n**************Specifiying column order:\")\n",
    "df2 = DataFrame(data, columns = ['year', 'state', 'pop', 'ext']) # This just defines the order of the columns\n",
    "df2"
   ]
  },
  {
   "cell_type": "markdown",
   "metadata": {},
   "source": [
    "### What happened with the **ext** column?"
   ]
  },
  {
   "cell_type": "markdown",
   "metadata": {},
   "source": [
    "Loading *DataFrames* from csv files is even easier:\n",
    "`df = pd.read_csv(rel_file_path)`\n",
    "\n",
    "*Note: There are other optional parameters for __read_csv__*"
   ]
  },
  {
   "cell_type": "code",
   "execution_count": 14,
   "metadata": {},
   "outputs": [
    {
     "data": {
      "text/html": [
       "<div>\n",
       "<style scoped>\n",
       "    .dataframe tbody tr th:only-of-type {\n",
       "        vertical-align: middle;\n",
       "    }\n",
       "\n",
       "    .dataframe tbody tr th {\n",
       "        vertical-align: top;\n",
       "    }\n",
       "\n",
       "    .dataframe thead th {\n",
       "        text-align: right;\n",
       "    }\n",
       "</style>\n",
       "<table border=\"1\" class=\"dataframe\">\n",
       "  <thead>\n",
       "    <tr style=\"text-align: right;\">\n",
       "      <th></th>\n",
       "      <th>X0</th>\n",
       "      <th>X1</th>\n",
       "      <th>X3</th>\n",
       "      <th>X4</th>\n",
       "      <th>X5</th>\n",
       "    </tr>\n",
       "  </thead>\n",
       "  <tbody>\n",
       "    <tr>\n",
       "      <td>0</td>\n",
       "      <td>58</td>\n",
       "      <td>0.974626</td>\n",
       "      <td>-2.496562</td>\n",
       "      <td>-60</td>\n",
       "      <td>Pink</td>\n",
       "    </tr>\n",
       "    <tr>\n",
       "      <td>1</td>\n",
       "      <td>94</td>\n",
       "      <td>0.085730</td>\n",
       "      <td>-2.568997</td>\n",
       "      <td>30</td>\n",
       "      <td>Pink</td>\n",
       "    </tr>\n",
       "    <tr>\n",
       "      <td>2</td>\n",
       "      <td>23</td>\n",
       "      <td>0.401620</td>\n",
       "      <td>-0.678929</td>\n",
       "      <td>-47</td>\n",
       "      <td>Blue</td>\n",
       "    </tr>\n",
       "    <tr>\n",
       "      <td>3</td>\n",
       "      <td>100</td>\n",
       "      <td>0.816063</td>\n",
       "      <td>-5.406521</td>\n",
       "      <td>-26</td>\n",
       "      <td>Red</td>\n",
       "    </tr>\n",
       "    <tr>\n",
       "      <td>4</td>\n",
       "      <td>1</td>\n",
       "      <td>0.052036</td>\n",
       "      <td>0.933420</td>\n",
       "      <td>-46</td>\n",
       "      <td>Pink</td>\n",
       "    </tr>\n",
       "  </tbody>\n",
       "</table>\n",
       "</div>"
      ],
      "text/plain": [
       "    X0        X1        X3  X4    X5\n",
       "0   58  0.974626 -2.496562 -60  Pink\n",
       "1   94  0.085730 -2.568997  30  Pink\n",
       "2   23  0.401620 -0.678929 -47  Blue\n",
       "3  100  0.816063 -5.406521 -26   Red\n",
       "4    1  0.052036  0.933420 -46  Pink"
      ]
     },
     "execution_count": 14,
     "metadata": {},
     "output_type": "execute_result"
    }
   ],
   "source": [
    "df = pd.read_csv('sample_csv.csv')\n",
    "df.head()"
   ]
  },
  {
   "cell_type": "markdown",
   "metadata": {},
   "source": [
    "## Dataframe Indexing\n",
    "Indexing in DataFrames is very different than indexing lists. While it is most similar to dictionary indexing, it has it's own nuances.\n",
    " - We can get/set column names with `df.columns`\n",
    " - We Select by column or index `df['col_name']` or `df['index_val']`\n",
    " - We can select using ints if we use iloc `df.iloc[row, col]`"
   ]
  },
  {
   "cell_type": "code",
   "execution_count": 15,
   "metadata": {},
   "outputs": [],
   "source": [
    "def get_data():\n",
    "    \"\"\"Generates a default dataframe\n",
    "    Returns:\n",
    "        DataFrame: Default dataframe for lecture\n",
    "    \"\"\"\n",
    "    \n",
    "    data = {'state': ['Ohio', 'Ohio', 'Ohio', 'Nevada', 'Nevada'],\n",
    "       'year': [2000, 2001, 2002, 2001, 2002],\n",
    "       'pop': [1.5, 1.7, 3.6, 2.4, 2.9]}\n",
    "\n",
    "    df = DataFrame(data, index = ['Ohio', 'Ohio', 'Ohio', 'Nevada', 'Nevada'])\n",
    "    return df"
   ]
  },
  {
   "cell_type": "code",
   "execution_count": 16,
   "metadata": {},
   "outputs": [],
   "source": [
    "df = get_data()"
   ]
  },
  {
   "cell_type": "markdown",
   "metadata": {},
   "source": [
    "**Column Names:**"
   ]
  },
  {
   "cell_type": "code",
   "execution_count": 17,
   "metadata": {},
   "outputs": [
    {
     "data": {
      "text/plain": [
       "Index(['state', 'year', 'pop'], dtype='object')"
      ]
     },
     "execution_count": 17,
     "metadata": {},
     "output_type": "execute_result"
    }
   ],
   "source": [
    "df.columns"
   ]
  },
  {
   "cell_type": "markdown",
   "metadata": {},
   "source": [
    "**Column:**"
   ]
  },
  {
   "cell_type": "code",
   "execution_count": 18,
   "metadata": {},
   "outputs": [
    {
     "data": {
      "text/plain": [
       "Ohio      2000\n",
       "Ohio      2001\n",
       "Ohio      2002\n",
       "Nevada    2001\n",
       "Nevada    2002\n",
       "Name: year, dtype: int64"
      ]
     },
     "execution_count": 18,
     "metadata": {},
     "output_type": "execute_result"
    }
   ],
   "source": [
    "df['year']"
   ]
  },
  {
   "cell_type": "markdown",
   "metadata": {},
   "source": [
    "**Indexes:**"
   ]
  },
  {
   "cell_type": "code",
   "execution_count": 19,
   "metadata": {},
   "outputs": [
    {
     "data": {
      "text/plain": [
       "Index(['Ohio', 'Ohio', 'Ohio', 'Nevada', 'Nevada'], dtype='object')"
      ]
     },
     "execution_count": 19,
     "metadata": {},
     "output_type": "execute_result"
    }
   ],
   "source": [
    "df.index"
   ]
  },
  {
   "cell_type": "markdown",
   "metadata": {},
   "source": [
    "**Specific Index:**"
   ]
  },
  {
   "cell_type": "code",
   "execution_count": 20,
   "metadata": {},
   "outputs": [
    {
     "data": {
      "text/html": [
       "<div>\n",
       "<style scoped>\n",
       "    .dataframe tbody tr th:only-of-type {\n",
       "        vertical-align: middle;\n",
       "    }\n",
       "\n",
       "    .dataframe tbody tr th {\n",
       "        vertical-align: top;\n",
       "    }\n",
       "\n",
       "    .dataframe thead th {\n",
       "        text-align: right;\n",
       "    }\n",
       "</style>\n",
       "<table border=\"1\" class=\"dataframe\">\n",
       "  <thead>\n",
       "    <tr style=\"text-align: right;\">\n",
       "      <th></th>\n",
       "      <th>state</th>\n",
       "      <th>year</th>\n",
       "      <th>pop</th>\n",
       "    </tr>\n",
       "  </thead>\n",
       "  <tbody>\n",
       "    <tr>\n",
       "      <td>Ohio</td>\n",
       "      <td>Ohio</td>\n",
       "      <td>2000</td>\n",
       "      <td>1.5</td>\n",
       "    </tr>\n",
       "    <tr>\n",
       "      <td>Ohio</td>\n",
       "      <td>Ohio</td>\n",
       "      <td>2001</td>\n",
       "      <td>1.7</td>\n",
       "    </tr>\n",
       "    <tr>\n",
       "      <td>Ohio</td>\n",
       "      <td>Ohio</td>\n",
       "      <td>2002</td>\n",
       "      <td>3.6</td>\n",
       "    </tr>\n",
       "  </tbody>\n",
       "</table>\n",
       "</div>"
      ],
      "text/plain": [
       "     state  year  pop\n",
       "Ohio  Ohio  2000  1.5\n",
       "Ohio  Ohio  2001  1.7\n",
       "Ohio  Ohio  2002  3.6"
      ]
     },
     "execution_count": 20,
     "metadata": {},
     "output_type": "execute_result"
    }
   ],
   "source": [
    "df.loc['Ohio'] # Note - This returns a subset of the original df"
   ]
  },
  {
   "cell_type": "markdown",
   "metadata": {},
   "source": [
    "**Accessing by Row, Col Index:**\n",
    " - `df.iloc[ix]` - Get row at ix\n",
    " - `df.iloc[ix, iy]` - Get element at row ix, col iy\n",
    " - `df.iloc[::ix]` - Get every ixth row"
   ]
  },
  {
   "cell_type": "code",
   "execution_count": 21,
   "metadata": {},
   "outputs": [
    {
     "name": "stdout",
     "output_type": "stream",
     "text": [
      "state    Nevada\n",
      "year       2001\n",
      "pop         2.4\n",
      "Name: Nevada, dtype: object\n"
     ]
    }
   ],
   "source": [
    "print(df.iloc[3])"
   ]
  },
  {
   "cell_type": "code",
   "execution_count": 22,
   "metadata": {},
   "outputs": [
    {
     "name": "stdout",
     "output_type": "stream",
     "text": [
      "2001\n"
     ]
    }
   ],
   "source": [
    "print(df.iloc[3, 1])"
   ]
  },
  {
   "cell_type": "code",
   "execution_count": 23,
   "metadata": {},
   "outputs": [
    {
     "name": "stdout",
     "output_type": "stream",
     "text": [
      "         state  year  pop\n",
      "Ohio      Ohio  2000  1.5\n",
      "Ohio      Ohio  2002  3.6\n",
      "Nevada  Nevada  2002  2.9\n"
     ]
    }
   ],
   "source": [
    "print(df.iloc[::2])"
   ]
  },
  {
   "cell_type": "markdown",
   "metadata": {},
   "source": [
    "## DataFrame Subsetting\n",
    "Like Numpy, there are many situations where we will want to be able to subset our *DataFrames*. Luckily *DataFrame* comparison operations result in **boolean** arrays. This means we can index into/subset our *DataFrames* by doing comparisons.\n",
    "\n",
    "Example:\n",
    "`subset_df = df[df[col] > val]`"
   ]
  },
  {
   "cell_type": "code",
   "execution_count": 24,
   "metadata": {},
   "outputs": [
    {
     "data": {
      "text/plain": [
       "Ohio      False\n",
       "Ohio      False\n",
       "Ohio       True\n",
       "Nevada    False\n",
       "Nevada     True\n",
       "Name: year, dtype: bool"
      ]
     },
     "execution_count": 24,
     "metadata": {},
     "output_type": "execute_result"
    }
   ],
   "source": [
    "df['year'] == 2002"
   ]
  },
  {
   "cell_type": "code",
   "execution_count": 25,
   "metadata": {},
   "outputs": [
    {
     "data": {
      "text/html": [
       "<div>\n",
       "<style scoped>\n",
       "    .dataframe tbody tr th:only-of-type {\n",
       "        vertical-align: middle;\n",
       "    }\n",
       "\n",
       "    .dataframe tbody tr th {\n",
       "        vertical-align: top;\n",
       "    }\n",
       "\n",
       "    .dataframe thead th {\n",
       "        text-align: right;\n",
       "    }\n",
       "</style>\n",
       "<table border=\"1\" class=\"dataframe\">\n",
       "  <thead>\n",
       "    <tr style=\"text-align: right;\">\n",
       "      <th></th>\n",
       "      <th>state</th>\n",
       "      <th>year</th>\n",
       "      <th>pop</th>\n",
       "    </tr>\n",
       "  </thead>\n",
       "  <tbody>\n",
       "    <tr>\n",
       "      <td>Ohio</td>\n",
       "      <td>Ohio</td>\n",
       "      <td>2002</td>\n",
       "      <td>3.6</td>\n",
       "    </tr>\n",
       "    <tr>\n",
       "      <td>Nevada</td>\n",
       "      <td>Nevada</td>\n",
       "      <td>2002</td>\n",
       "      <td>2.9</td>\n",
       "    </tr>\n",
       "  </tbody>\n",
       "</table>\n",
       "</div>"
      ],
      "text/plain": [
       "         state  year  pop\n",
       "Ohio      Ohio  2002  3.6\n",
       "Nevada  Nevada  2002  2.9"
      ]
     },
     "execution_count": 25,
     "metadata": {},
     "output_type": "execute_result"
    }
   ],
   "source": [
    "df[df['year'] == 2002]"
   ]
  },
  {
   "cell_type": "markdown",
   "metadata": {},
   "source": [
    "## In class work - Problem 1:\n",
    "Subset the dataframe to find which states had a population < 2 in 2001 or 2002.\n",
    "\n",
    "*Note: When doing multiple comparisions you need to wrap them with __()__. `df[(cond1) & (cond2)]` or `df[(cond1) | (cond2)]`"
   ]
  },
  {
   "cell_type": "code",
   "execution_count": 57,
   "metadata": {},
   "outputs": [
    {
     "data": {
      "text/html": [
       "<div>\n",
       "<style scoped>\n",
       "    .dataframe tbody tr th:only-of-type {\n",
       "        vertical-align: middle;\n",
       "    }\n",
       "\n",
       "    .dataframe tbody tr th {\n",
       "        vertical-align: top;\n",
       "    }\n",
       "\n",
       "    .dataframe thead th {\n",
       "        text-align: right;\n",
       "    }\n",
       "</style>\n",
       "<table border=\"1\" class=\"dataframe\">\n",
       "  <thead>\n",
       "    <tr style=\"text-align: right;\">\n",
       "      <th></th>\n",
       "      <th>state</th>\n",
       "      <th>year</th>\n",
       "      <th>pop</th>\n",
       "    </tr>\n",
       "  </thead>\n",
       "  <tbody>\n",
       "    <tr>\n",
       "      <td>Ohio</td>\n",
       "      <td>Ohio</td>\n",
       "      <td>2001</td>\n",
       "      <td>1.7</td>\n",
       "    </tr>\n",
       "  </tbody>\n",
       "</table>\n",
       "</div>"
      ],
      "text/plain": [
       "     state  year  pop\n",
       "Ohio  Ohio  2001  1.7"
      ]
     },
     "execution_count": 57,
     "metadata": {},
     "output_type": "execute_result"
    }
   ],
   "source": [
    "df = get_data()\n",
    "df[(df['year'] > 2000) & (df['pop'] < 2)]\n",
    "# Space for work\n"
   ]
  },
  {
   "cell_type": "markdown",
   "metadata": {},
   "source": [
    "### DataFrame Assignment\n",
    "The similarity between *DataFrames* and dictionaries continues with value assignment."
   ]
  },
  {
   "cell_type": "markdown",
   "metadata": {},
   "source": [
    "We can instantiate an empty column with a simple assignment operation:\n",
    "```python\n",
    "df[new_col] = val\n",
    "```"
   ]
  },
  {
   "cell_type": "code",
   "execution_count": null,
   "metadata": {},
   "outputs": [],
   "source": [
    "df = get_data()\n",
    "df['new_col'] = 0\n",
    "df"
   ]
  },
  {
   "cell_type": "markdown",
   "metadata": {},
   "source": [
    "We can also do this with computed columns:"
   ]
  },
  {
   "cell_type": "code",
   "execution_count": null,
   "metadata": {},
   "outputs": [],
   "source": [
    "# Assuming pop was in 100K format\n",
    "df['actual_pop'] = df['pop'] * 100000\n",
    "df"
   ]
  },
  {
   "cell_type": "markdown",
   "metadata": {},
   "source": [
    "We can do this for any generated values, as long as they share the same **shape**/size"
   ]
  },
  {
   "cell_type": "code",
   "execution_count": null,
   "metadata": {},
   "outputs": [],
   "source": [
    "print(\"\\n**************Creating Columns:\")\n",
    "df['sq_miles'] = np.random.randint(50, 100, size=df.shape[0]) # We can create a column by indexing at a new col_name\n",
    "df"
   ]
  },
  {
   "cell_type": "markdown",
   "metadata": {},
   "source": [
    "**But if the # of records doesn't match, we will get an error!**"
   ]
  },
  {
   "cell_type": "code",
   "execution_count": null,
   "metadata": {},
   "outputs": [],
   "source": [
    "df['sq_miles'] = np.random.randint(50, 100, size=df.shape[0]+10) # We can create a column by indexing at a new col_name\n",
    "df"
   ]
  },
  {
   "cell_type": "markdown",
   "metadata": {},
   "source": [
    "### DataFrame Deletions\n",
    "With DataFrames to remove data we need to either **drop** or **delete** it.\n",
    "\n",
    "\n",
    "*Note: a lot of pandas operations have the option to do the operation ***inplace***, otherwise the operation creates a modified copy*"
   ]
  },
  {
   "cell_type": "code",
   "execution_count": null,
   "metadata": {},
   "outputs": [],
   "source": [
    "df = get_data()\n",
    "df_copy = df.drop('Ohio') # Can also do df1.drop('Ohio', inplace=True) which will update df1\n",
    "df_copy"
   ]
  },
  {
   "cell_type": "code",
   "execution_count": null,
   "metadata": {},
   "outputs": [],
   "source": [
    "df = get_data()\n",
    "df.drop('Ohio', inplace=True)\n",
    "df"
   ]
  },
  {
   "cell_type": "code",
   "execution_count": null,
   "metadata": {},
   "outputs": [],
   "source": [
    "df = get_data()\n",
    "del df['year'] # Like a dictionary, we can delete a 'key' with the del command\n",
    "df"
   ]
  },
  {
   "cell_type": "markdown",
   "metadata": {},
   "source": [
    "### Deletion Through Subsetting\n",
    "We can also use subsetting/indexing to \"delete\" rows/columns"
   ]
  },
  {
   "cell_type": "code",
   "execution_count": null,
   "metadata": {},
   "outputs": [],
   "source": [
    "df = get_data()\n",
    "df = df[['state', 'pop']] # Just select what you want\n",
    "df"
   ]
  },
  {
   "cell_type": "markdown",
   "metadata": {},
   "source": [
    "## DataFrame Arithmetic\n",
    "Very similar to what we saw when working with Series, only aligned data is computed."
   ]
  },
  {
   "cell_type": "code",
   "execution_count": null,
   "metadata": {},
   "outputs": [],
   "source": [
    "df1 = DataFrame(np.random.randint(-10, 100, size=12).reshape((4, 3)), columns=['a', 'b', 'c'])\n",
    "df2 = DataFrame(np.random.randint(-10, 100, size=12).reshape((4, 3)), columns=['a', 'b', 'd'])\n",
    "\n",
    "print(df1 + df2) #Just like Series arithemetic, non labeled data ends up NaN\n",
    "\"\"\"Only +, -, *, and / will work with this\"\"\"\n"
   ]
  },
  {
   "cell_type": "markdown",
   "metadata": {},
   "source": [
    "### DataFrame Functions - Elementwise\n",
    "There are two ways that we can apply functions to a dataframe:\n",
    " - **Axis**: these operations act as aggregators and apply a fucnction over columns or rows\n",
    " - **Element-wise**: these operations will update each element based on the function\n",
    " \n",
    "### Element-wise:\n",
    "These operations primarily fall into either *arithmetic* operations or *ufunc-like* functions."
   ]
  },
  {
   "cell_type": "code",
   "execution_count": null,
   "metadata": {},
   "outputs": [],
   "source": [
    "# Element based function applications\n",
    "\n",
    "df1 = DataFrame(np.random.randint(-100, 100, size=12).reshape((4, 3)), columns=['a', 'b', 'c'])\n",
    "df2 = DataFrame(np.random.randint(-100, 100, size=12).reshape((4, 3)), columns=['a', 'b', 'd'])\n",
    "\n",
    "print(\"\\n**************Original:\")\n",
    "print(df1)\n",
    "\n",
    "print(\"\\n**************ABS:\")\n",
    "print(np.abs(df1)) # We can use any of the numpy ufuncs\n",
    "\n",
    "print(\"\\n**************Square:\")\n",
    "print(df1 * 2) # We can use any of the numpy ufuncs"
   ]
  },
  {
   "cell_type": "markdown",
   "metadata": {},
   "source": [
    "## In Class Work - Problem 2:\n",
    "Calculate the mean population per year"
   ]
  },
  {
   "cell_type": "code",
   "execution_count": null,
   "metadata": {},
   "outputs": [],
   "source": [
    "df = get_data()\n",
    "\n",
    "# Space for work\n"
   ]
  },
  {
   "cell_type": "markdown",
   "metadata": {},
   "source": [
    "### Axis (apply):\n",
    " - With DataFrames we can apply functions across the dataframes *axis*.\n",
    "  - axis=0 -> cols\n",
    "  - axis=1 -> rows"
   ]
  },
  {
   "cell_type": "code",
   "execution_count": null,
   "metadata": {},
   "outputs": [],
   "source": [
    "df1 = DataFrame(np.arange(12).reshape((4, 3)), columns=['a', 'b', 'c'])\n",
    "df2 = DataFrame(np.random.randint(-100, 100, size=12).reshape((4, 3)), columns=['a', 'b', 'd'])\n",
    "\n",
    "df1"
   ]
  },
  {
   "cell_type": "markdown",
   "metadata": {},
   "source": [
    "### Applying the Mean:\n",
    "**Axis = 0**"
   ]
  },
  {
   "cell_type": "code",
   "execution_count": null,
   "metadata": {},
   "outputs": [],
   "source": [
    "func = lambda x: np.mean(x) # Function to apply\n",
    "df1.apply(func)"
   ]
  },
  {
   "cell_type": "markdown",
   "metadata": {},
   "source": [
    "**Axis = 1**"
   ]
  },
  {
   "cell_type": "code",
   "execution_count": null,
   "metadata": {},
   "outputs": [],
   "source": [
    "df1.apply(func, axis=1)"
   ]
  },
  {
   "cell_type": "markdown",
   "metadata": {},
   "source": [
    "### Accessing Row/Col Values\n",
    "Since the **apply()** method aggregates accross rows/cols, the row/col values can be accessed in the aggregation function. Seen below, we directly reference known col names."
   ]
  },
  {
   "cell_type": "code",
   "execution_count": null,
   "metadata": {},
   "outputs": [],
   "source": [
    "func = lambda x: x['a'] * x['c']\n",
    "print(df1.apply(func, axis=1))"
   ]
  },
  {
   "cell_type": "markdown",
   "metadata": {},
   "source": [
    "## In class work - Problem 3:\n",
    "Given $ \\text{GDP Deflator} = \\frac{\\text{Nominal GDP}}{\\text{Real GDP}} * 100 $ calculate the real GDP per row\n",
    "using pandas apply() method and append the results to the current dataframe"
   ]
  },
  {
   "cell_type": "code",
   "execution_count": null,
   "metadata": {},
   "outputs": [],
   "source": [
    "data = {'state': ['Ohio', 'Ohio', 'Ohio', 'Nevada', 'Nevada'],\n",
    "       'year': [2000, 2001, 2002, 2001, 2002],\n",
    "       'Nominal GDP': [395.1, 398.9, 414.2, 102.2, 105.4],\n",
    "       'GDP Deflator': [82.59, 84.23, 85.65, 84.23, 85.65]}\n",
    "df = DataFrame(data)\n",
    "\n",
    "# Space for work\n"
   ]
  }
 ],
 "metadata": {
  "kernelspec": {
   "display_name": "Python 3",
   "language": "python",
   "name": "python3"
  },
  "language_info": {
   "codemirror_mode": {
    "name": "ipython",
    "version": 3
   },
   "file_extension": ".py",
   "mimetype": "text/x-python",
   "name": "python",
   "nbconvert_exporter": "python",
   "pygments_lexer": "ipython3",
   "version": "3.7.4"
  }
 },
 "nbformat": 4,
 "nbformat_minor": 4
}
