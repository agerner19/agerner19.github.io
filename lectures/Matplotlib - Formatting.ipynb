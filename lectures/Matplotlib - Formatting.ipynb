{
 "cells": [
  {
   "cell_type": "markdown",
   "metadata": {},
   "source": [
    "# Matplotlib and Visualizing Data"
   ]
  },
  {
   "cell_type": "code",
   "execution_count": null,
   "metadata": {
    "scrolled": true
   },
   "outputs": [],
   "source": [
    "import numpy as np\n",
    "import matplotlib.pyplot as plt\n",
    "\n",
    "np.random.seed(18)\n",
    "sqft = np.random.randint(650, 2000, 2000).astype(np.int64)\n",
    "price = sqft * 2 + np.random.normal(0, 300, 2000)\n",
    "w = 4\n",
    "b = 3\n",
    "\n",
    "reg_x = np.linspace(600,2000,100)\n",
    "reg_y = b + w * reg_x"
   ]
  },
  {
   "cell_type": "code",
   "execution_count": null,
   "metadata": {},
   "outputs": [],
   "source": [
    "plt.scatter(sqft, price)\n",
    "plt.plot(reg_x, reg_y, c='orange')\n",
    "plt.show()"
   ]
  },
  {
   "cell_type": "code",
   "execution_count": null,
   "metadata": {
    "scrolled": true
   },
   "outputs": [],
   "source": [
    "w = 2\n",
    "b = 3\n",
    "\n",
    "reg_x = np.linspace(600,2000,100)\n",
    "reg_y = b + w * reg_x"
   ]
  },
  {
   "cell_type": "code",
   "execution_count": null,
   "metadata": {},
   "outputs": [],
   "source": [
    "plt.scatter(sqft, price)\n",
    "plt.plot(reg_x, reg_y, c='orange')\n",
    "plt.show()"
   ]
  },
  {
   "cell_type": "markdown",
   "metadata": {},
   "source": [
    "## plt.plot()\n",
    "We can plot data very easily by taking any array/lst of data and passing it into plt.plot(data).\n",
    "This generates a line plot though, so all points will be connected by straight lines."
   ]
  },
  {
   "cell_type": "code",
   "execution_count": null,
   "metadata": {},
   "outputs": [],
   "source": [
    "#Setting up python for plotting\n",
    "\n",
    "import matplotlib.pyplot as plt #this is the typical setup for plotting using matplotlib\n",
    "import numpy as np\n",
    "\n",
    "# Straight ploting (i.e. plt.plot(data)) plots line plots\n",
    "\n",
    "plt.plot(np.arange(10)) # We can plot numpy arrays using plt.plot()\n",
    "plt.show() # The plot won't actually show until we call plt.show()\n",
    "\n",
    "plt.plot(np.random.rand(100))\n",
    "plt.show() # This is what the random.rand generates\n"
   ]
  },
  {
   "cell_type": "markdown",
   "metadata": {},
   "source": [
    "## Plot Figures\n",
    "We can generate a figure `plt.figure()` which will be our canvas for our plots.\n",
    "\n",
    "From here we can define **axes/subplots** by adding them `axe = fig.add_subplot(#nrows, #ncols, #position)`. *__nrows/ncols__ defines the the number of __subplots__, while position defines which __subplot__ the __axe__ is descirbing*\n",
    "\n",
    "Example: *fig.add_subplot(2, 3, 4)* would create a 2x3 grid of plots, in which the current **axe** would refer to the fourth plot (first col, second row)."
   ]
  },
  {
   "cell_type": "code",
   "execution_count": null,
   "metadata": {},
   "outputs": [],
   "source": [
    "# Matplotlib's Figures\n",
    "\n",
    "import matplotlib.pyplot as plt\n",
    "import numpy as np\n",
    "\n",
    "fig = plt.figure() #Usually we want to actually create a figure, a customized location for our plots\n",
    "\n",
    "# Two line plots on the initial plot\n",
    "ax1 = fig.add_subplot(2, 1, 1) #To a figure we can add sub_plots which creates an axes\n",
    "ax1.plot(np.arange(100)) #Now we can target specific axes when we plot elements\n",
    "ax1.plot(np.random.rand(100))\n",
    "\n",
    "# Random noise plotted on the second graph\n",
    "ax2 = fig.add_subplot(2, 1, 2) #The inputs are (# across, # down, #axes you want)\n",
    "ax2.plot(np.random.rand(100))\n",
    "\n",
    "plt.show()\n"
   ]
  },
  {
   "cell_type": "markdown",
   "metadata": {},
   "source": [
    "## In class work: Problem 1\n",
    "Plot 2 arrays (size = 1000) generated from numpy's random normal on the same subplot with the following criteria:\n",
    " 1. The first dataset should be generated from a standard normal distribution\n",
    " 2. The second dataset should be a normal distribution with a loc = 5 and scale = 2"
   ]
  },
  {
   "cell_type": "code",
   "execution_count": null,
   "metadata": {},
   "outputs": [],
   "source": [
    "#Problem 1\n"
   ]
  },
  {
   "cell_type": "markdown",
   "metadata": {},
   "source": [
    "## Figures cont.\n",
    "There are a lot of different types of graphs available to us through matplotlib:\n",
    " - Histogram\n",
    " - Scatter Plot\n",
    " - Line Plot\n",
    " - Etc."
   ]
  },
  {
   "cell_type": "code",
   "execution_count": null,
   "metadata": {},
   "outputs": [],
   "source": [
    "# Matplotlib's Figures\n",
    "\n",
    "fig = plt.figure() # Usually we want to actually create a figure, a customized location for our plots\n",
    "fig.subplots_adjust(wspace = .5, hspace = .5) # We can adjust axes spacing with the figure method subplots_adjust\n",
    "\n",
    "ax1 = fig.add_subplot(2, 2, 1)\n",
    "ax2 = fig.add_subplot(2, 2, 2)\n",
    "ax3 = fig.add_subplot(2, 2, 3)\n",
    "\n",
    "ax1.hist(np.random.normal(size=100)) # hist() on a axes or plot will create a histogram\n",
    "ax2.scatter(np.arange(100), np.random.randn(100)) # scatter() on an axes or plot will create a scatter plot\n",
    "ax3.plot(np.arange(50)+(np.random.rand(50)*10))\n",
    "\n",
    "plt.show()"
   ]
  },
  {
   "cell_type": "markdown",
   "metadata": {},
   "source": [
    "## Labels and Coloring\n",
    "Most graph types will be able to take a **color** parameter. This enables us to determine what color to choose for our data (note: you can pass char colors, hex colors, etc.)\n",
    "\n",
    "In addition most matplotlib plots/figures have some form of a **title** method that lets you set a title. For axes it looks like `ax1.set_title('title string')`"
   ]
  },
  {
   "cell_type": "code",
   "execution_count": null,
   "metadata": {},
   "outputs": [],
   "source": [
    "# Labels and Coloring\n",
    "\n",
    "import matplotlib.pyplot as plt\n",
    "import numpy as np\n",
    "\n",
    "fig = plt.figure() # Usually we want to actually create a figure, a customized location for our plots\n",
    "\n",
    "ax1 = fig.add_subplot(1, 1, 1)\n",
    "data = np.random.normal(loc = 0, scale = 1, size = 1000)\n",
    "ax1.hist(data, color='r') # The color parameter, for most plots, defines the base color\n",
    "ax1.set_title(\"Random Normal Histogram\") # We can set the title with the set_title() method\n",
    "\n",
    "plt.show()\n",
    "\n"
   ]
  },
  {
   "cell_type": "markdown",
   "metadata": {},
   "source": [
    "### We can even add in gridlines\n",
    "Similary there is a grid attribute we can set with `ax1.grid(Boolean)`"
   ]
  },
  {
   "cell_type": "code",
   "execution_count": null,
   "metadata": {},
   "outputs": [],
   "source": [
    "fig = plt.figure() # Usually we want to actually create a figure, a customized location for our plots\n",
    "\n",
    "ax1 = fig.add_subplot(1, 1, 1)\n",
    "data = np.random.normal(loc = 0, scale = 1, size = 1000)\n",
    "ax1.hist(data, color='r') # The color parameter, for most plots, defines the base color\n",
    "ax1.set_title(\"Random Normal Histogram\") # We can set the title with the set_title() method\n",
    "ax1.grid(True) # We can add a grid pretty easily too\n",
    "\n",
    "plt.show()\n",
    "\n"
   ]
  },
  {
   "cell_type": "markdown",
   "metadata": {},
   "source": [
    "## Tick Marks\n",
    "For most graphs we want to highlight ceratin key **x** and **y** coordinates. To accomplish this, we can use `ax.set_xticks(values)` and `ax.set_xticklabels(labels)`."
   ]
  },
  {
   "cell_type": "code",
   "execution_count": null,
   "metadata": {},
   "outputs": [],
   "source": [
    "# Setting tick marks - can be done for X and Y axes\n",
    "\n",
    "import matplotlib.pyplot as plt\n",
    "import numpy as np\n",
    "\n",
    "data = np.random.normal(loc = 0, scale = 1, size = 1000)\n",
    "\n",
    "fig = plt.figure()\n",
    "\n",
    "ax1 = fig.add_subplot(1, 2, 1)\n",
    "ax1.hist(data, color='r') # The normed parameter \n",
    "ax1.set_title(\"Random Normal Histogram\")\n",
    "ticks = ax1.set_xticks([-3, -2, -1, 0, 1, 2, 3]) # We can manually define the location of tick marks\n",
    "# This sets labels to each tick mark\n",
    "labels = ax1.set_xticklabels([\"3-SD\", \"2-SD\", \"1-SD\", \"Mean\", \"1-SD\", \"2-SD\", \"3-SD\"], rotation = 45)\n",
    "\n",
    "ax2 = fig.add_subplot(1, 2, 2)\n",
    "ax2.hist(data, color='r')\n",
    "\n",
    "ax1.set_xlabel(\"Standard Deviations\")\n",
    "ax1.set_ylabel(\"Frequency\")\n",
    "\n",
    "plt.show()"
   ]
  },
  {
   "cell_type": "markdown",
   "metadata": {},
   "source": [
    "## In class work: Problem 2\n",
    "Generate a random normal dataset (at a new location and scale) and plot it's histogram. Create the x-tick marks in the same manner as above, but make it so they encompass every datapoint (need to determine min/max and SD's away)"
   ]
  },
  {
   "cell_type": "code",
   "execution_count": null,
   "metadata": {},
   "outputs": [],
   "source": [
    "#Problem 2\n"
   ]
  },
  {
   "cell_type": "markdown",
   "metadata": {},
   "source": [
    "## Overlapping Graphs\n",
    "We can overlay graph data simply by adding them to the same figure/axes\n",
    "\n",
    "*Note: Depending on the scale of the data, some details may not be visible*"
   ]
  },
  {
   "cell_type": "code",
   "execution_count": null,
   "metadata": {},
   "outputs": [],
   "source": [
    "# Plotting multiple graphs on one graph\n",
    "%matplotlib inline\n",
    "\n",
    "import matplotlib.pyplot as plt\n",
    "import numpy as np\n",
    "\n",
    "data1 = np.arange(100) + 10 * np.random.randn(100)\n",
    "data2 = np.random.normal(loc = 50, scale = 10, size = 100)\n",
    "data3 = np.random.binomial(10, .05, 100)\n",
    "\n",
    "fig = plt.figure()\n",
    "ax1 = fig.add_subplot(1, 1, 1)\n",
    "\n",
    "ax1.plot(data1, label = \"0-100 + noise\", color='b')\n",
    "ax1.plot(data2, label = \"Normal Dist Data\")\n",
    "ax1.plot(data3, label = \"Binomial\")\n",
    "\n",
    "leg = ax1.legend(loc=\"best\") # This adds a legend (based on labels) at the 'best' location ()\n",
    "leg.draggable(state=True) # This only works if you run '%matplotlib notebook' in your notebook\n",
    "# TALK about interactive environment\n",
    "ax1.grid(True)\n",
    "\n",
    "plt.show()"
   ]
  },
  {
   "cell_type": "markdown",
   "metadata": {},
   "source": [
    "### Alpha/Opacitiy\n",
    "\n",
    "While this can be extremely useful when trying to compare datasets, overlapping solid shapes can be hard to distinguish. The **alpha** parameter allows us to manipulate the opacity of our objects to visualize overlapping solid segments."
   ]
  },
  {
   "cell_type": "code",
   "execution_count": null,
   "metadata": {},
   "outputs": [],
   "source": [
    "# Overlapping histograms\n",
    "import numpy as np\n",
    "import matplotlib.pyplot as plt\n",
    "import matplotlib.patches as mpatches\n",
    "\n",
    "data1 = np.random.normal(loc=12, scale=3, size=1000)\n",
    "data2 = np.random.normal(loc=12, scale=3, size=1000)\n",
    "\n",
    "fig = plt.figure()\n",
    "ax1 = fig.add_subplot(1,1,1)\n",
    "\n",
    "purple = mpatches.Patch(color='purple', label='overlap')\n",
    "\n",
    "ax1.hist(data1, label='Mean8', alpha=.4, color='r')\n",
    "ax1.hist(data2, label='Mean12', alpha=.4, color='black')\n",
    "leg = ax1.legend(loc=\"best\")\n",
    "\n",
    "plt.show()"
   ]
  },
  {
   "cell_type": "markdown",
   "metadata": {},
   "source": [
    "## Annotations and Drawings on Graphs\n",
    "We can add additional data to our graphs with annotation and drawing functionality\n",
    "\n",
    "---\n",
    "### Patches\n",
    "`patches.Shape(xy, width, height, color, args**)`\n",
    "\n",
    "`axe.add_artist(patch)`\n",
    "\n",
    "Rectangle Patch:\n",
    " - xy is the bottom left location of the Rectangle\n",
    " - width is the width\n",
    " - height is the height\n",
    "\n",
    "---\n",
    "\n",
    "### Annotations\n",
    "`axe.annotate(str, xy, xytext, arrowproprs**)`\n",
    " - xy defines the location we are pointing to\n",
    " - xytext is the starting location for the text\n",
    " - arrowprops is a dictionary of properties for the arrow"
   ]
  },
  {
   "cell_type": "code",
   "execution_count": null,
   "metadata": {},
   "outputs": [],
   "source": [
    "#Annotations and Drawings\n",
    "\n",
    "import matplotlib.pyplot as plt\n",
    "import numpy as np\n",
    "from matplotlib import patches #patches are necessary to add shapes to plot\n",
    "\n",
    "data = np.random.normal(loc = 0, scale = 1, size = 5000)\n",
    "\n",
    "fig = plt.figure()\n",
    "ax1 = fig.add_subplot(1, 1, 1)\n",
    "ax1.hist(data, color = 'r', normed = True)\n",
    "\n",
    "rect = patches.Rectangle(xy=(-1, 0), width=2, height=1, color = 'b')\n",
    "rect.set_alpha(.3) #Setting the alpha for any object changes its transparency\n",
    "ax1.add_artist(rect)\n",
    "\n",
    "ax1.annotate('68% of prob should fall in rectangle', xy=(0, .5), xytext=(.1, .65),\n",
    "             arrowprops=dict(facecolor='black', shrink=0.05))\n",
    "\n",
    "\n",
    "ax1.set_ylim((0, .7)) #We can change the axes limits by set_xlim or set_ylim to reshape scope\n",
    "\n",
    "plt.show()\n"
   ]
  },
  {
   "cell_type": "markdown",
   "metadata": {},
   "source": [
    "## In class work: Problem 3\n",
    "Plot some randomly generated data and add an annotation at the max and min of the data generated."
   ]
  },
  {
   "cell_type": "code",
   "execution_count": null,
   "metadata": {},
   "outputs": [],
   "source": [
    "#Problem 3\n"
   ]
  }
 ],
 "metadata": {
  "kernelspec": {
   "display_name": "Python [conda env:.conda-prog_analytics] *",
   "language": "python",
   "name": "conda-env-.conda-prog_analytics-py"
  },
  "language_info": {
   "codemirror_mode": {
    "name": "ipython",
    "version": 3
   },
   "file_extension": ".py",
   "mimetype": "text/x-python",
   "name": "python",
   "nbconvert_exporter": "python",
   "pygments_lexer": "ipython3",
   "version": "3.6.9"
  }
 },
 "nbformat": 4,
 "nbformat_minor": 4
}
