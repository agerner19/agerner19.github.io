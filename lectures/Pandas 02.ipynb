{
 "cells": [
  {
   "cell_type": "markdown",
   "metadata": {},
   "source": [
    "# Pandas Cont."
   ]
  },
  {
   "cell_type": "code",
   "execution_count": 26,
   "metadata": {},
   "outputs": [],
   "source": [
    "import pandas as pd\n",
    "from pandas import Series, DataFrame\n",
    "\n",
    "import numpy as np"
   ]
  },
  {
   "cell_type": "markdown",
   "metadata": {},
   "source": [
    "### Sorting DataFrames\n",
    "Sorting a DataFames can be done by index or by column. The index sorting or `df.sort_index()` enables us to sort columns or rows by their labels."
   ]
  },
  {
   "cell_type": "code",
   "execution_count": 27,
   "metadata": {},
   "outputs": [
    {
     "name": "stdout",
     "output_type": "stream",
     "text": [
      "       d  a  b  c\n",
      "three  0  1  2  3\n",
      "one    4  5  6  7\n",
      "\n",
      "       d  a  b  c\n",
      "one    4  5  6  7\n",
      "three  0  1  2  3\n",
      "\n",
      "       a  b  c  d\n",
      "one    5  6  7  4\n",
      "three  1  2  3  0\n"
     ]
    }
   ],
   "source": [
    "df = DataFrame(np.arange(8).reshape((2,4)), index=['three', 'one'],\n",
    "              columns=['d', 'a', 'b', 'c'])\n",
    "print(df)\n",
    "print()\n",
    "\n",
    "# This will sort the indexes of the dataframe\n",
    "df.sort_index(inplace=True) # Inplace is necessary to update the df object, otherwise need to store output in var\n",
    "print(df)\n",
    "print()\n",
    "\n",
    "# This will sort the columns of the dataframe\n",
    "df.sort_index(inplace=True, axis=1)\n",
    "print(df)\n"
   ]
  },
  {
   "cell_type": "markdown",
   "metadata": {},
   "source": [
    "### Sorting by Values\n",
    "Typically we would rather sort by the values within the dataframe. This is accomplished using the [**df.sort_values()**](https://pandas.pydata.org/pandas-docs/stable/reference/api/pandas.DataFrame.sort_values.html) method.\n",
    "```python\n",
    "sorted_df = df.sort_values(by=cols, axis=axis, ascending=True, in_place=False)\n",
    "```\n",
    "This will create a new dataframe, sorted by the provided **cols/columns**. This sort is done in column order. So `df.sort_values(by=[col1, col2])` would sort by col1 first, and then deal with any duplicate values in col1 by sorting on the values in col2.\n",
    "\n",
    "*Note: __axis = 1__ would sort the columns. Not something we typically worry about, but useful to keep in mind*\n",
    "\n",
    "### Prior to Sorting\n",
    "<img src=\"data_prior_sort.png\" width=\"700\" align=\"center\"></img>\n",
    "\n",
    "### After Sorting (Latitude, Median Age, Value)\n",
    "<img src=\"data_post_sort.png\" width=\"700\" margin-left=\"auto\"></img>"
   ]
  },
  {
   "cell_type": "code",
   "execution_count": 28,
   "metadata": {},
   "outputs": [
    {
     "data": {
      "text/html": [
       "<div>\n",
       "<style scoped>\n",
       "    .dataframe tbody tr th:only-of-type {\n",
       "        vertical-align: middle;\n",
       "    }\n",
       "\n",
       "    .dataframe tbody tr th {\n",
       "        vertical-align: top;\n",
       "    }\n",
       "\n",
       "    .dataframe thead th {\n",
       "        text-align: right;\n",
       "    }\n",
       "</style>\n",
       "<table border=\"1\" class=\"dataframe\">\n",
       "  <thead>\n",
       "    <tr style=\"text-align: right;\">\n",
       "      <th></th>\n",
       "      <th>longitude</th>\n",
       "      <th>latitude</th>\n",
       "      <th>housing_median_age</th>\n",
       "      <th>total_rooms</th>\n",
       "      <th>total_bedrooms</th>\n",
       "      <th>population</th>\n",
       "      <th>households</th>\n",
       "      <th>median_income</th>\n",
       "      <th>median_house_value</th>\n",
       "      <th>ocean_proximity</th>\n",
       "      <th>Unnamed: 10</th>\n",
       "      <th>Unnamed: 11</th>\n",
       "      <th>Source - https://www.kaggle.com/harrywang/housing#housing.csv</th>\n",
       "    </tr>\n",
       "  </thead>\n",
       "  <tbody>\n",
       "    <tr>\n",
       "      <td>0</td>\n",
       "      <td>-122.23</td>\n",
       "      <td>37.88</td>\n",
       "      <td>41</td>\n",
       "      <td>880</td>\n",
       "      <td>129</td>\n",
       "      <td>322</td>\n",
       "      <td>126</td>\n",
       "      <td>8.3252</td>\n",
       "      <td>452600</td>\n",
       "      <td>NEAR BAY</td>\n",
       "      <td>NaN</td>\n",
       "      <td>NaN</td>\n",
       "      <td>NaN</td>\n",
       "    </tr>\n",
       "    <tr>\n",
       "      <td>1</td>\n",
       "      <td>-122.22</td>\n",
       "      <td>37.86</td>\n",
       "      <td>21</td>\n",
       "      <td>7099</td>\n",
       "      <td>1106</td>\n",
       "      <td>2401</td>\n",
       "      <td>1138</td>\n",
       "      <td>8.3014</td>\n",
       "      <td>358500</td>\n",
       "      <td>NEAR BAY</td>\n",
       "      <td>NaN</td>\n",
       "      <td>NaN</td>\n",
       "      <td>NaN</td>\n",
       "    </tr>\n",
       "    <tr>\n",
       "      <td>2</td>\n",
       "      <td>-122.24</td>\n",
       "      <td>37.85</td>\n",
       "      <td>52</td>\n",
       "      <td>1467</td>\n",
       "      <td>190</td>\n",
       "      <td>496</td>\n",
       "      <td>177</td>\n",
       "      <td>7.2574</td>\n",
       "      <td>352100</td>\n",
       "      <td>NEAR BAY</td>\n",
       "      <td>NaN</td>\n",
       "      <td>NaN</td>\n",
       "      <td>NaN</td>\n",
       "    </tr>\n",
       "    <tr>\n",
       "      <td>3</td>\n",
       "      <td>-122.25</td>\n",
       "      <td>37.85</td>\n",
       "      <td>52</td>\n",
       "      <td>1274</td>\n",
       "      <td>235</td>\n",
       "      <td>558</td>\n",
       "      <td>219</td>\n",
       "      <td>5.6431</td>\n",
       "      <td>341300</td>\n",
       "      <td>NEAR BAY</td>\n",
       "      <td>NaN</td>\n",
       "      <td>NaN</td>\n",
       "      <td>NaN</td>\n",
       "    </tr>\n",
       "    <tr>\n",
       "      <td>4</td>\n",
       "      <td>-122.25</td>\n",
       "      <td>37.85</td>\n",
       "      <td>52</td>\n",
       "      <td>1627</td>\n",
       "      <td>280</td>\n",
       "      <td>565</td>\n",
       "      <td>259</td>\n",
       "      <td>3.8462</td>\n",
       "      <td>342200</td>\n",
       "      <td>NEAR BAY</td>\n",
       "      <td>NaN</td>\n",
       "      <td>NaN</td>\n",
       "      <td>NaN</td>\n",
       "    </tr>\n",
       "  </tbody>\n",
       "</table>\n",
       "</div>"
      ],
      "text/plain": [
       "   longitude  latitude  housing_median_age  total_rooms  total_bedrooms  \\\n",
       "0    -122.23     37.88                  41          880             129   \n",
       "1    -122.22     37.86                  21         7099            1106   \n",
       "2    -122.24     37.85                  52         1467             190   \n",
       "3    -122.25     37.85                  52         1274             235   \n",
       "4    -122.25     37.85                  52         1627             280   \n",
       "\n",
       "   population  households  median_income  median_house_value ocean_proximity  \\\n",
       "0         322         126         8.3252              452600        NEAR BAY   \n",
       "1        2401        1138         8.3014              358500        NEAR BAY   \n",
       "2         496         177         7.2574              352100        NEAR BAY   \n",
       "3         558         219         5.6431              341300        NEAR BAY   \n",
       "4         565         259         3.8462              342200        NEAR BAY   \n",
       "\n",
       "   Unnamed: 10  Unnamed: 11  \\\n",
       "0          NaN          NaN   \n",
       "1          NaN          NaN   \n",
       "2          NaN          NaN   \n",
       "3          NaN          NaN   \n",
       "4          NaN          NaN   \n",
       "\n",
       "   Source - https://www.kaggle.com/harrywang/housing#housing.csv  \n",
       "0                                                NaN              \n",
       "1                                                NaN              \n",
       "2                                                NaN              \n",
       "3                                                NaN              \n",
       "4                                                NaN              "
      ]
     },
     "execution_count": 28,
     "metadata": {},
     "output_type": "execute_result"
    }
   ],
   "source": [
    "#Sorting Continued\n",
    "\n",
    "df = pd.read_csv('data/housing.csv', nrows=11)\n",
    "df.head()"
   ]
  },
  {
   "cell_type": "code",
   "execution_count": 29,
   "metadata": {},
   "outputs": [
    {
     "data": {
      "text/html": [
       "<div>\n",
       "<style scoped>\n",
       "    .dataframe tbody tr th:only-of-type {\n",
       "        vertical-align: middle;\n",
       "    }\n",
       "\n",
       "    .dataframe tbody tr th {\n",
       "        vertical-align: top;\n",
       "    }\n",
       "\n",
       "    .dataframe thead th {\n",
       "        text-align: right;\n",
       "    }\n",
       "</style>\n",
       "<table border=\"1\" class=\"dataframe\">\n",
       "  <thead>\n",
       "    <tr style=\"text-align: right;\">\n",
       "      <th></th>\n",
       "      <th>latitude</th>\n",
       "      <th>housing_median_age</th>\n",
       "      <th>median_house_value</th>\n",
       "    </tr>\n",
       "  </thead>\n",
       "  <tbody>\n",
       "    <tr>\n",
       "      <td>8</td>\n",
       "      <td>37.84</td>\n",
       "      <td>42</td>\n",
       "      <td>226700</td>\n",
       "    </tr>\n",
       "    <tr>\n",
       "      <td>7</td>\n",
       "      <td>37.84</td>\n",
       "      <td>52</td>\n",
       "      <td>241400</td>\n",
       "    </tr>\n",
       "    <tr>\n",
       "      <td>9</td>\n",
       "      <td>37.84</td>\n",
       "      <td>52</td>\n",
       "      <td>261100</td>\n",
       "    </tr>\n",
       "    <tr>\n",
       "      <td>6</td>\n",
       "      <td>37.84</td>\n",
       "      <td>52</td>\n",
       "      <td>299200</td>\n",
       "    </tr>\n",
       "    <tr>\n",
       "      <td>5</td>\n",
       "      <td>37.85</td>\n",
       "      <td>52</td>\n",
       "      <td>269700</td>\n",
       "    </tr>\n",
       "    <tr>\n",
       "      <td>10</td>\n",
       "      <td>37.85</td>\n",
       "      <td>52</td>\n",
       "      <td>281500</td>\n",
       "    </tr>\n",
       "    <tr>\n",
       "      <td>3</td>\n",
       "      <td>37.85</td>\n",
       "      <td>52</td>\n",
       "      <td>341300</td>\n",
       "    </tr>\n",
       "    <tr>\n",
       "      <td>4</td>\n",
       "      <td>37.85</td>\n",
       "      <td>52</td>\n",
       "      <td>342200</td>\n",
       "    </tr>\n",
       "    <tr>\n",
       "      <td>2</td>\n",
       "      <td>37.85</td>\n",
       "      <td>52</td>\n",
       "      <td>352100</td>\n",
       "    </tr>\n",
       "    <tr>\n",
       "      <td>1</td>\n",
       "      <td>37.86</td>\n",
       "      <td>21</td>\n",
       "      <td>358500</td>\n",
       "    </tr>\n",
       "    <tr>\n",
       "      <td>0</td>\n",
       "      <td>37.88</td>\n",
       "      <td>41</td>\n",
       "      <td>452600</td>\n",
       "    </tr>\n",
       "  </tbody>\n",
       "</table>\n",
       "</div>"
      ],
      "text/plain": [
       "    latitude  housing_median_age  median_house_value\n",
       "8      37.84                  42              226700\n",
       "7      37.84                  52              241400\n",
       "9      37.84                  52              261100\n",
       "6      37.84                  52              299200\n",
       "5      37.85                  52              269700\n",
       "10     37.85                  52              281500\n",
       "3      37.85                  52              341300\n",
       "4      37.85                  52              342200\n",
       "2      37.85                  52              352100\n",
       "1      37.86                  21              358500\n",
       "0      37.88                  41              452600"
      ]
     },
     "execution_count": 29,
     "metadata": {},
     "output_type": "execute_result"
    }
   ],
   "source": [
    "cols_interest = ['latitude', 'housing_median_age', 'median_house_value']\n",
    "df.sort_values(by=cols_interest)[cols_interest]\n"
   ]
  },
  {
   "cell_type": "markdown",
   "metadata": {},
   "source": [
    "Changing these parameters can help us highlight different aspects of the data, but function almost identically"
   ]
  },
  {
   "cell_type": "code",
   "execution_count": 30,
   "metadata": {},
   "outputs": [
    {
     "data": {
      "text/html": [
       "<div>\n",
       "<style scoped>\n",
       "    .dataframe tbody tr th:only-of-type {\n",
       "        vertical-align: middle;\n",
       "    }\n",
       "\n",
       "    .dataframe tbody tr th {\n",
       "        vertical-align: top;\n",
       "    }\n",
       "\n",
       "    .dataframe thead th {\n",
       "        text-align: right;\n",
       "    }\n",
       "</style>\n",
       "<table border=\"1\" class=\"dataframe\">\n",
       "  <thead>\n",
       "    <tr style=\"text-align: right;\">\n",
       "      <th></th>\n",
       "      <th>longitude</th>\n",
       "      <th>latitude</th>\n",
       "      <th>housing_median_age</th>\n",
       "      <th>total_rooms</th>\n",
       "      <th>total_bedrooms</th>\n",
       "      <th>population</th>\n",
       "      <th>households</th>\n",
       "      <th>median_income</th>\n",
       "      <th>median_house_value</th>\n",
       "      <th>ocean_proximity</th>\n",
       "      <th>Unnamed: 10</th>\n",
       "      <th>Unnamed: 11</th>\n",
       "      <th>Source - https://www.kaggle.com/harrywang/housing#housing.csv</th>\n",
       "    </tr>\n",
       "  </thead>\n",
       "  <tbody>\n",
       "    <tr>\n",
       "      <td>0</td>\n",
       "      <td>-122.23</td>\n",
       "      <td>37.88</td>\n",
       "      <td>41</td>\n",
       "      <td>880</td>\n",
       "      <td>129</td>\n",
       "      <td>322</td>\n",
       "      <td>126</td>\n",
       "      <td>8.3252</td>\n",
       "      <td>452600</td>\n",
       "      <td>NEAR BAY</td>\n",
       "      <td>NaN</td>\n",
       "      <td>NaN</td>\n",
       "      <td>NaN</td>\n",
       "    </tr>\n",
       "    <tr>\n",
       "      <td>1</td>\n",
       "      <td>-122.22</td>\n",
       "      <td>37.86</td>\n",
       "      <td>21</td>\n",
       "      <td>7099</td>\n",
       "      <td>1106</td>\n",
       "      <td>2401</td>\n",
       "      <td>1138</td>\n",
       "      <td>8.3014</td>\n",
       "      <td>358500</td>\n",
       "      <td>NEAR BAY</td>\n",
       "      <td>NaN</td>\n",
       "      <td>NaN</td>\n",
       "      <td>NaN</td>\n",
       "    </tr>\n",
       "    <tr>\n",
       "      <td>2</td>\n",
       "      <td>-122.24</td>\n",
       "      <td>37.85</td>\n",
       "      <td>52</td>\n",
       "      <td>1467</td>\n",
       "      <td>190</td>\n",
       "      <td>496</td>\n",
       "      <td>177</td>\n",
       "      <td>7.2574</td>\n",
       "      <td>352100</td>\n",
       "      <td>NEAR BAY</td>\n",
       "      <td>NaN</td>\n",
       "      <td>NaN</td>\n",
       "      <td>NaN</td>\n",
       "    </tr>\n",
       "    <tr>\n",
       "      <td>4</td>\n",
       "      <td>-122.25</td>\n",
       "      <td>37.85</td>\n",
       "      <td>52</td>\n",
       "      <td>1627</td>\n",
       "      <td>280</td>\n",
       "      <td>565</td>\n",
       "      <td>259</td>\n",
       "      <td>3.8462</td>\n",
       "      <td>342200</td>\n",
       "      <td>NEAR BAY</td>\n",
       "      <td>NaN</td>\n",
       "      <td>NaN</td>\n",
       "      <td>NaN</td>\n",
       "    </tr>\n",
       "    <tr>\n",
       "      <td>3</td>\n",
       "      <td>-122.25</td>\n",
       "      <td>37.85</td>\n",
       "      <td>52</td>\n",
       "      <td>1274</td>\n",
       "      <td>235</td>\n",
       "      <td>558</td>\n",
       "      <td>219</td>\n",
       "      <td>5.6431</td>\n",
       "      <td>341300</td>\n",
       "      <td>NEAR BAY</td>\n",
       "      <td>NaN</td>\n",
       "      <td>NaN</td>\n",
       "      <td>NaN</td>\n",
       "    </tr>\n",
       "    <tr>\n",
       "      <td>6</td>\n",
       "      <td>-122.25</td>\n",
       "      <td>37.84</td>\n",
       "      <td>52</td>\n",
       "      <td>2535</td>\n",
       "      <td>489</td>\n",
       "      <td>1094</td>\n",
       "      <td>514</td>\n",
       "      <td>3.6591</td>\n",
       "      <td>299200</td>\n",
       "      <td>NEAR BAY</td>\n",
       "      <td>NaN</td>\n",
       "      <td>NaN</td>\n",
       "      <td>NaN</td>\n",
       "    </tr>\n",
       "    <tr>\n",
       "      <td>10</td>\n",
       "      <td>-122.26</td>\n",
       "      <td>37.85</td>\n",
       "      <td>52</td>\n",
       "      <td>2202</td>\n",
       "      <td>434</td>\n",
       "      <td>910</td>\n",
       "      <td>402</td>\n",
       "      <td>3.2031</td>\n",
       "      <td>281500</td>\n",
       "      <td>NEAR BAY</td>\n",
       "      <td>NaN</td>\n",
       "      <td>NaN</td>\n",
       "      <td>NaN</td>\n",
       "    </tr>\n",
       "    <tr>\n",
       "      <td>5</td>\n",
       "      <td>-122.25</td>\n",
       "      <td>37.85</td>\n",
       "      <td>52</td>\n",
       "      <td>919</td>\n",
       "      <td>213</td>\n",
       "      <td>413</td>\n",
       "      <td>193</td>\n",
       "      <td>4.0368</td>\n",
       "      <td>269700</td>\n",
       "      <td>NEAR BAY</td>\n",
       "      <td>NaN</td>\n",
       "      <td>NaN</td>\n",
       "      <td>NaN</td>\n",
       "    </tr>\n",
       "    <tr>\n",
       "      <td>9</td>\n",
       "      <td>-122.25</td>\n",
       "      <td>37.84</td>\n",
       "      <td>52</td>\n",
       "      <td>3549</td>\n",
       "      <td>707</td>\n",
       "      <td>1551</td>\n",
       "      <td>714</td>\n",
       "      <td>3.6912</td>\n",
       "      <td>261100</td>\n",
       "      <td>NEAR BAY</td>\n",
       "      <td>NaN</td>\n",
       "      <td>NaN</td>\n",
       "      <td>NaN</td>\n",
       "    </tr>\n",
       "    <tr>\n",
       "      <td>7</td>\n",
       "      <td>-122.25</td>\n",
       "      <td>37.84</td>\n",
       "      <td>52</td>\n",
       "      <td>3104</td>\n",
       "      <td>687</td>\n",
       "      <td>1157</td>\n",
       "      <td>647</td>\n",
       "      <td>3.1200</td>\n",
       "      <td>241400</td>\n",
       "      <td>NEAR BAY</td>\n",
       "      <td>NaN</td>\n",
       "      <td>NaN</td>\n",
       "      <td>NaN</td>\n",
       "    </tr>\n",
       "    <tr>\n",
       "      <td>8</td>\n",
       "      <td>-122.26</td>\n",
       "      <td>37.84</td>\n",
       "      <td>42</td>\n",
       "      <td>2555</td>\n",
       "      <td>665</td>\n",
       "      <td>1206</td>\n",
       "      <td>595</td>\n",
       "      <td>2.0804</td>\n",
       "      <td>226700</td>\n",
       "      <td>NEAR BAY</td>\n",
       "      <td>NaN</td>\n",
       "      <td>NaN</td>\n",
       "      <td>NaN</td>\n",
       "    </tr>\n",
       "  </tbody>\n",
       "</table>\n",
       "</div>"
      ],
      "text/plain": [
       "    longitude  latitude  housing_median_age  total_rooms  total_bedrooms  \\\n",
       "0     -122.23     37.88                  41          880             129   \n",
       "1     -122.22     37.86                  21         7099            1106   \n",
       "2     -122.24     37.85                  52         1467             190   \n",
       "4     -122.25     37.85                  52         1627             280   \n",
       "3     -122.25     37.85                  52         1274             235   \n",
       "6     -122.25     37.84                  52         2535             489   \n",
       "10    -122.26     37.85                  52         2202             434   \n",
       "5     -122.25     37.85                  52          919             213   \n",
       "9     -122.25     37.84                  52         3549             707   \n",
       "7     -122.25     37.84                  52         3104             687   \n",
       "8     -122.26     37.84                  42         2555             665   \n",
       "\n",
       "    population  households  median_income  median_house_value ocean_proximity  \\\n",
       "0          322         126         8.3252              452600        NEAR BAY   \n",
       "1         2401        1138         8.3014              358500        NEAR BAY   \n",
       "2          496         177         7.2574              352100        NEAR BAY   \n",
       "4          565         259         3.8462              342200        NEAR BAY   \n",
       "3          558         219         5.6431              341300        NEAR BAY   \n",
       "6         1094         514         3.6591              299200        NEAR BAY   \n",
       "10         910         402         3.2031              281500        NEAR BAY   \n",
       "5          413         193         4.0368              269700        NEAR BAY   \n",
       "9         1551         714         3.6912              261100        NEAR BAY   \n",
       "7         1157         647         3.1200              241400        NEAR BAY   \n",
       "8         1206         595         2.0804              226700        NEAR BAY   \n",
       "\n",
       "    Unnamed: 10  Unnamed: 11  \\\n",
       "0           NaN          NaN   \n",
       "1           NaN          NaN   \n",
       "2           NaN          NaN   \n",
       "4           NaN          NaN   \n",
       "3           NaN          NaN   \n",
       "6           NaN          NaN   \n",
       "10          NaN          NaN   \n",
       "5           NaN          NaN   \n",
       "9           NaN          NaN   \n",
       "7           NaN          NaN   \n",
       "8           NaN          NaN   \n",
       "\n",
       "    Source - https://www.kaggle.com/harrywang/housing#housing.csv  \n",
       "0                                                 NaN              \n",
       "1                                                 NaN              \n",
       "2                                                 NaN              \n",
       "4                                                 NaN              \n",
       "3                                                 NaN              \n",
       "6                                                 NaN              \n",
       "10                                                NaN              \n",
       "5                                                 NaN              \n",
       "9                                                 NaN              \n",
       "7                                                 NaN              \n",
       "8                                                 NaN              "
      ]
     },
     "execution_count": 30,
     "metadata": {},
     "output_type": "execute_result"
    }
   ],
   "source": [
    "df.sort_values(by=['median_house_value', 'latitude'], inplace=True, ascending=False)\n",
    "df"
   ]
  },
  {
   "cell_type": "markdown",
   "metadata": {},
   "source": [
    "## Pandas Stats\n",
    "Just like **numpy**, there are a number of **statistical functions** that we can leverage when working with **pandas dataframes**\n",
    "\n",
    "Some examples:\n",
    "- count\n",
    "- min, max\n",
    "- sum\n",
    "- mean\n",
    "- median\n",
    "- var\n",
    "- std\n",
    "\n",
    "These are all called in the same manner:\n",
    "```python\n",
    "    stat = df.stat_func()\n",
    "```"
   ]
  },
  {
   "cell_type": "code",
   "execution_count": 31,
   "metadata": {},
   "outputs": [
    {
     "data": {
      "text/plain": [
       "longitude                                                          -119.569704\n",
       "latitude                                                             35.631861\n",
       "housing_median_age                                                   28.639486\n",
       "total_rooms                                                        2635.763081\n",
       "total_bedrooms                                                      537.870553\n",
       "population                                                         1425.476744\n",
       "households                                                          499.539680\n",
       "median_income                                                         3.870671\n",
       "median_house_value                                               206855.816909\n",
       "Unnamed: 10                                                                NaN\n",
       "Unnamed: 11                                                                NaN\n",
       "Source - https://www.kaggle.com/harrywang/housing#housing.csv              NaN\n",
       "dtype: float64"
      ]
     },
     "execution_count": 31,
     "metadata": {},
     "output_type": "execute_result"
    }
   ],
   "source": [
    "df = pd.read_csv('data/housing.csv')\n",
    "\n",
    "# This prints out the column-wise mean values\n",
    "df.mean()"
   ]
  },
  {
   "cell_type": "markdown",
   "metadata": {},
   "source": [
    "Can calculate the mean of a *specific* column by subsetting"
   ]
  },
  {
   "cell_type": "code",
   "execution_count": 32,
   "metadata": {},
   "outputs": [
    {
     "data": {
      "text/plain": [
       "206855.81690891474"
      ]
     },
     "execution_count": 32,
     "metadata": {},
     "output_type": "execute_result"
    }
   ],
   "source": [
    "df['median_house_value'].mean()"
   ]
  },
  {
   "cell_type": "markdown",
   "metadata": {},
   "source": [
    "### Describe\n",
    "To get a quick view of the internals of a dataframe, we can use `df.describe()`. This will give information on **num of elements, mean, std, etc.**. This is usually a good way to start your exploration of a new dataset."
   ]
  },
  {
   "cell_type": "code",
   "execution_count": 10,
   "metadata": {},
   "outputs": [
    {
     "data": {
      "text/html": [
       "<div>\n",
       "<style scoped>\n",
       "    .dataframe tbody tr th:only-of-type {\n",
       "        vertical-align: middle;\n",
       "    }\n",
       "\n",
       "    .dataframe tbody tr th {\n",
       "        vertical-align: top;\n",
       "    }\n",
       "\n",
       "    .dataframe thead th {\n",
       "        text-align: right;\n",
       "    }\n",
       "</style>\n",
       "<table border=\"1\" class=\"dataframe\">\n",
       "  <thead>\n",
       "    <tr style=\"text-align: right;\">\n",
       "      <th></th>\n",
       "      <th>longitude</th>\n",
       "      <th>latitude</th>\n",
       "      <th>housing_median_age</th>\n",
       "      <th>total_rooms</th>\n",
       "      <th>total_bedrooms</th>\n",
       "      <th>population</th>\n",
       "      <th>households</th>\n",
       "      <th>median_income</th>\n",
       "      <th>median_house_value</th>\n",
       "      <th>Unnamed: 10</th>\n",
       "      <th>Unnamed: 11</th>\n",
       "      <th>Source - https://www.kaggle.com/harrywang/housing#housing.csv</th>\n",
       "    </tr>\n",
       "  </thead>\n",
       "  <tbody>\n",
       "    <tr>\n",
       "      <th>count</th>\n",
       "      <td>20640.000000</td>\n",
       "      <td>20640.000000</td>\n",
       "      <td>20640.000000</td>\n",
       "      <td>20640.000000</td>\n",
       "      <td>20433.000000</td>\n",
       "      <td>20640.000000</td>\n",
       "      <td>20640.000000</td>\n",
       "      <td>20640.000000</td>\n",
       "      <td>20640.000000</td>\n",
       "      <td>0.0</td>\n",
       "      <td>0.0</td>\n",
       "      <td>0.0</td>\n",
       "    </tr>\n",
       "    <tr>\n",
       "      <th>mean</th>\n",
       "      <td>-119.569704</td>\n",
       "      <td>35.631861</td>\n",
       "      <td>28.639486</td>\n",
       "      <td>2635.763081</td>\n",
       "      <td>537.870553</td>\n",
       "      <td>1425.476744</td>\n",
       "      <td>499.539680</td>\n",
       "      <td>3.870671</td>\n",
       "      <td>206855.816909</td>\n",
       "      <td>NaN</td>\n",
       "      <td>NaN</td>\n",
       "      <td>NaN</td>\n",
       "    </tr>\n",
       "    <tr>\n",
       "      <th>std</th>\n",
       "      <td>2.003532</td>\n",
       "      <td>2.135952</td>\n",
       "      <td>12.585558</td>\n",
       "      <td>2181.615252</td>\n",
       "      <td>421.385070</td>\n",
       "      <td>1132.462122</td>\n",
       "      <td>382.329753</td>\n",
       "      <td>1.899822</td>\n",
       "      <td>115395.615874</td>\n",
       "      <td>NaN</td>\n",
       "      <td>NaN</td>\n",
       "      <td>NaN</td>\n",
       "    </tr>\n",
       "    <tr>\n",
       "      <th>min</th>\n",
       "      <td>-124.350000</td>\n",
       "      <td>32.540000</td>\n",
       "      <td>1.000000</td>\n",
       "      <td>2.000000</td>\n",
       "      <td>1.000000</td>\n",
       "      <td>3.000000</td>\n",
       "      <td>1.000000</td>\n",
       "      <td>0.499900</td>\n",
       "      <td>14999.000000</td>\n",
       "      <td>NaN</td>\n",
       "      <td>NaN</td>\n",
       "      <td>NaN</td>\n",
       "    </tr>\n",
       "    <tr>\n",
       "      <th>25%</th>\n",
       "      <td>-121.800000</td>\n",
       "      <td>33.930000</td>\n",
       "      <td>18.000000</td>\n",
       "      <td>1447.750000</td>\n",
       "      <td>296.000000</td>\n",
       "      <td>787.000000</td>\n",
       "      <td>280.000000</td>\n",
       "      <td>2.563400</td>\n",
       "      <td>119600.000000</td>\n",
       "      <td>NaN</td>\n",
       "      <td>NaN</td>\n",
       "      <td>NaN</td>\n",
       "    </tr>\n",
       "    <tr>\n",
       "      <th>50%</th>\n",
       "      <td>-118.490000</td>\n",
       "      <td>34.260000</td>\n",
       "      <td>29.000000</td>\n",
       "      <td>2127.000000</td>\n",
       "      <td>435.000000</td>\n",
       "      <td>1166.000000</td>\n",
       "      <td>409.000000</td>\n",
       "      <td>3.534800</td>\n",
       "      <td>179700.000000</td>\n",
       "      <td>NaN</td>\n",
       "      <td>NaN</td>\n",
       "      <td>NaN</td>\n",
       "    </tr>\n",
       "    <tr>\n",
       "      <th>75%</th>\n",
       "      <td>-118.010000</td>\n",
       "      <td>37.710000</td>\n",
       "      <td>37.000000</td>\n",
       "      <td>3148.000000</td>\n",
       "      <td>647.000000</td>\n",
       "      <td>1725.000000</td>\n",
       "      <td>605.000000</td>\n",
       "      <td>4.743250</td>\n",
       "      <td>264725.000000</td>\n",
       "      <td>NaN</td>\n",
       "      <td>NaN</td>\n",
       "      <td>NaN</td>\n",
       "    </tr>\n",
       "    <tr>\n",
       "      <th>max</th>\n",
       "      <td>-114.310000</td>\n",
       "      <td>41.950000</td>\n",
       "      <td>52.000000</td>\n",
       "      <td>39320.000000</td>\n",
       "      <td>6445.000000</td>\n",
       "      <td>35682.000000</td>\n",
       "      <td>6082.000000</td>\n",
       "      <td>15.000100</td>\n",
       "      <td>500001.000000</td>\n",
       "      <td>NaN</td>\n",
       "      <td>NaN</td>\n",
       "      <td>NaN</td>\n",
       "    </tr>\n",
       "  </tbody>\n",
       "</table>\n",
       "</div>"
      ],
      "text/plain": [
       "          longitude      latitude  housing_median_age   total_rooms  \\\n",
       "count  20640.000000  20640.000000        20640.000000  20640.000000   \n",
       "mean    -119.569704     35.631861           28.639486   2635.763081   \n",
       "std        2.003532      2.135952           12.585558   2181.615252   \n",
       "min     -124.350000     32.540000            1.000000      2.000000   \n",
       "25%     -121.800000     33.930000           18.000000   1447.750000   \n",
       "50%     -118.490000     34.260000           29.000000   2127.000000   \n",
       "75%     -118.010000     37.710000           37.000000   3148.000000   \n",
       "max     -114.310000     41.950000           52.000000  39320.000000   \n",
       "\n",
       "       total_bedrooms    population    households  median_income  \\\n",
       "count    20433.000000  20640.000000  20640.000000   20640.000000   \n",
       "mean       537.870553   1425.476744    499.539680       3.870671   \n",
       "std        421.385070   1132.462122    382.329753       1.899822   \n",
       "min          1.000000      3.000000      1.000000       0.499900   \n",
       "25%        296.000000    787.000000    280.000000       2.563400   \n",
       "50%        435.000000   1166.000000    409.000000       3.534800   \n",
       "75%        647.000000   1725.000000    605.000000       4.743250   \n",
       "max       6445.000000  35682.000000   6082.000000      15.000100   \n",
       "\n",
       "       median_house_value  Unnamed: 10  Unnamed: 11  \\\n",
       "count        20640.000000          0.0          0.0   \n",
       "mean        206855.816909          NaN          NaN   \n",
       "std         115395.615874          NaN          NaN   \n",
       "min          14999.000000          NaN          NaN   \n",
       "25%         119600.000000          NaN          NaN   \n",
       "50%         179700.000000          NaN          NaN   \n",
       "75%         264725.000000          NaN          NaN   \n",
       "max         500001.000000          NaN          NaN   \n",
       "\n",
       "       Source - https://www.kaggle.com/harrywang/housing#housing.csv  \n",
       "count                                                0.0              \n",
       "mean                                                 NaN              \n",
       "std                                                  NaN              \n",
       "min                                                  NaN              \n",
       "25%                                                  NaN              \n",
       "50%                                                  NaN              \n",
       "75%                                                  NaN              \n",
       "max                                                  NaN              "
      ]
     },
     "execution_count": 10,
     "metadata": {},
     "output_type": "execute_result"
    }
   ],
   "source": [
    "df.describe()"
   ]
  },
  {
   "cell_type": "markdown",
   "metadata": {},
   "source": [
    "## In-Class Work: Problem 1\n",
    "Given the housing csv, determine which rows in the dataset are outliers for **median_house_value**.\n",
    "\n",
    "*Note: For the purpose of this exercise, we'll consider anything 1.5 stds away from the mean an outlier.*\n",
    "\n",
    "***You should identify 2048 rows***"
   ]
  },
  {
   "cell_type": "code",
   "execution_count": 39,
   "metadata": {},
   "outputs": [
    {
     "data": {
      "text/plain": [
       "median_house_value    206855.816909\n",
       "dtype: float64"
      ]
     },
     "execution_count": 39,
     "metadata": {},
     "output_type": "execute_result"
    }
   ],
   "source": [
    "#Problem 1\n",
    "\"\"\"Given the following dataframe (df) determine which rows have values, for every column,\n",
    "that fall outside (mean - 1std) for the given column\n",
    "E.G. For row x values in colummns a, b, c, and d are further than 1 std away from the mean for column a, b, c, and d\n",
    "\n",
    "Should find rows 24 and 28\n",
    "\"\"\"\n",
    "\n",
    "df = pd.read_csv('data/housing.csv')\n",
    "\n",
    "\n",
    "median_house_std = df[['median_house_value']].std()\n",
    "\n",
    "median_house_mean = df[['median_house_value']].mean()\n",
    "\n",
    "func = lambda x: True if x['median_house_value'] < median_house_std or "
   ]
  },
  {
   "cell_type": "markdown",
   "metadata": {},
   "source": [
    "### Pandas Correlation and Covariance\n",
    "Pandas, as with **numpy**, provides ways to quickly calculate *covariance* and *correlation coefficients*. Just as we saw with the other stats functions, they are called as methods `df.cov()` and `df.corr()`.\n",
    "\n",
    "*Note: This isn't always as practical as with numpy, as it isn't uncommon to have non-numeric data in our dataframes.*"
   ]
  },
  {
   "cell_type": "code",
   "execution_count": 17,
   "metadata": {},
   "outputs": [],
   "source": [
    "#Correlation and Covariance\n",
    "df = pd.read_csv('housing.csv')\n",
    "tmp_df = df[['total_rooms', 'total_bedrooms', 'median_income', 'median_house_value']]"
   ]
  },
  {
   "cell_type": "code",
   "execution_count": 18,
   "metadata": {},
   "outputs": [
    {
     "data": {
      "text/html": [
       "<div>\n",
       "<style scoped>\n",
       "    .dataframe tbody tr th:only-of-type {\n",
       "        vertical-align: middle;\n",
       "    }\n",
       "\n",
       "    .dataframe tbody tr th {\n",
       "        vertical-align: top;\n",
       "    }\n",
       "\n",
       "    .dataframe thead th {\n",
       "        text-align: right;\n",
       "    }\n",
       "</style>\n",
       "<table border=\"1\" class=\"dataframe\">\n",
       "  <thead>\n",
       "    <tr style=\"text-align: right;\">\n",
       "      <th></th>\n",
       "      <th>total_rooms</th>\n",
       "      <th>total_bedrooms</th>\n",
       "      <th>median_income</th>\n",
       "      <th>median_house_value</th>\n",
       "    </tr>\n",
       "  </thead>\n",
       "  <tbody>\n",
       "    <tr>\n",
       "      <th>total_rooms</th>\n",
       "      <td>4.759445e+06</td>\n",
       "      <td>8.567306e+05</td>\n",
       "      <td>820.852410</td>\n",
       "      <td>3.377289e+07</td>\n",
       "    </tr>\n",
       "    <tr>\n",
       "      <th>total_bedrooms</th>\n",
       "      <td>8.567306e+05</td>\n",
       "      <td>1.775654e+05</td>\n",
       "      <td>-6.180851</td>\n",
       "      <td>2.416878e+06</td>\n",
       "    </tr>\n",
       "    <tr>\n",
       "      <th>median_income</th>\n",
       "      <td>8.208524e+02</td>\n",
       "      <td>-6.180851e+00</td>\n",
       "      <td>3.609323</td>\n",
       "      <td>1.508475e+05</td>\n",
       "    </tr>\n",
       "    <tr>\n",
       "      <th>median_house_value</th>\n",
       "      <td>3.377289e+07</td>\n",
       "      <td>2.416878e+06</td>\n",
       "      <td>150847.482793</td>\n",
       "      <td>1.331615e+10</td>\n",
       "    </tr>\n",
       "  </tbody>\n",
       "</table>\n",
       "</div>"
      ],
      "text/plain": [
       "                     total_rooms  total_bedrooms  median_income  \\\n",
       "total_rooms         4.759445e+06    8.567306e+05     820.852410   \n",
       "total_bedrooms      8.567306e+05    1.775654e+05      -6.180851   \n",
       "median_income       8.208524e+02   -6.180851e+00       3.609323   \n",
       "median_house_value  3.377289e+07    2.416878e+06  150847.482793   \n",
       "\n",
       "                    median_house_value  \n",
       "total_rooms               3.377289e+07  \n",
       "total_bedrooms            2.416878e+06  \n",
       "median_income             1.508475e+05  \n",
       "median_house_value        1.331615e+10  "
      ]
     },
     "execution_count": 18,
     "metadata": {},
     "output_type": "execute_result"
    }
   ],
   "source": [
    "tmp_df.cov()"
   ]
  },
  {
   "cell_type": "code",
   "execution_count": 19,
   "metadata": {},
   "outputs": [
    {
     "data": {
      "text/html": [
       "<div>\n",
       "<style scoped>\n",
       "    .dataframe tbody tr th:only-of-type {\n",
       "        vertical-align: middle;\n",
       "    }\n",
       "\n",
       "    .dataframe tbody tr th {\n",
       "        vertical-align: top;\n",
       "    }\n",
       "\n",
       "    .dataframe thead th {\n",
       "        text-align: right;\n",
       "    }\n",
       "</style>\n",
       "<table border=\"1\" class=\"dataframe\">\n",
       "  <thead>\n",
       "    <tr style=\"text-align: right;\">\n",
       "      <th></th>\n",
       "      <th>total_rooms</th>\n",
       "      <th>total_bedrooms</th>\n",
       "      <th>median_income</th>\n",
       "      <th>median_house_value</th>\n",
       "    </tr>\n",
       "  </thead>\n",
       "  <tbody>\n",
       "    <tr>\n",
       "      <th>total_rooms</th>\n",
       "      <td>1.000000</td>\n",
       "      <td>0.930380</td>\n",
       "      <td>0.198050</td>\n",
       "      <td>0.134153</td>\n",
       "    </tr>\n",
       "    <tr>\n",
       "      <th>total_bedrooms</th>\n",
       "      <td>0.930380</td>\n",
       "      <td>1.000000</td>\n",
       "      <td>-0.007723</td>\n",
       "      <td>0.049686</td>\n",
       "    </tr>\n",
       "    <tr>\n",
       "      <th>median_income</th>\n",
       "      <td>0.198050</td>\n",
       "      <td>-0.007723</td>\n",
       "      <td>1.000000</td>\n",
       "      <td>0.688075</td>\n",
       "    </tr>\n",
       "    <tr>\n",
       "      <th>median_house_value</th>\n",
       "      <td>0.134153</td>\n",
       "      <td>0.049686</td>\n",
       "      <td>0.688075</td>\n",
       "      <td>1.000000</td>\n",
       "    </tr>\n",
       "  </tbody>\n",
       "</table>\n",
       "</div>"
      ],
      "text/plain": [
       "                    total_rooms  total_bedrooms  median_income  \\\n",
       "total_rooms            1.000000        0.930380       0.198050   \n",
       "total_bedrooms         0.930380        1.000000      -0.007723   \n",
       "median_income          0.198050       -0.007723       1.000000   \n",
       "median_house_value     0.134153        0.049686       0.688075   \n",
       "\n",
       "                    median_house_value  \n",
       "total_rooms                   0.134153  \n",
       "total_bedrooms                0.049686  \n",
       "median_income                 0.688075  \n",
       "median_house_value            1.000000  "
      ]
     },
     "execution_count": 19,
     "metadata": {},
     "output_type": "execute_result"
    }
   ],
   "source": [
    "tmp_df.corr()"
   ]
  },
  {
   "cell_type": "markdown",
   "metadata": {},
   "source": [
    "## Pandas Uniques\n",
    "We can find unique values by simply calling `df[col].unique()`. This is because **Series** have a unique method, and subsetting a **dataframe** returns the **Series** that column comprises.\n",
    "\n",
    "Similarly we can call `df[col].value_counts()` to determine how frequent each value in a Series is. **This is extremely useful**_, at least in my opinion._"
   ]
  },
  {
   "cell_type": "code",
   "execution_count": 26,
   "metadata": {},
   "outputs": [
    {
     "data": {
      "text/plain": [
       "array(['NEAR BAY', '<1H OCEAN', 'INLAND', 'NEAR OCEAN', 'ISLAND'],\n",
       "      dtype=object)"
      ]
     },
     "execution_count": 26,
     "metadata": {},
     "output_type": "execute_result"
    }
   ],
   "source": [
    "df = pd.read_csv('housing.csv')\n",
    "df['ocean_proximity'].unique() #Unique method only exists for Series data, not DataFrames"
   ]
  },
  {
   "cell_type": "code",
   "execution_count": 25,
   "metadata": {},
   "outputs": [
    {
     "data": {
      "text/plain": [
       "<1H OCEAN     9136\n",
       "INLAND        6551\n",
       "NEAR OCEAN    2658\n",
       "NEAR BAY      2290\n",
       "ISLAND           5\n",
       "Name: ocean_proximity, dtype: int64"
      ]
     },
     "execution_count": 25,
     "metadata": {},
     "output_type": "execute_result"
    }
   ],
   "source": [
    "df['ocean_proximity'].value_counts()"
   ]
  },
  {
   "cell_type": "markdown",
   "metadata": {},
   "source": [
    "## isin()\n",
    "Just like python's x in y functionality, we can do the same thing usuing `df[col].isin(lst)`. This is a useful tool to subset a dataframe by it's categorical data."
   ]
  },
  {
   "cell_type": "code",
   "execution_count": 29,
   "metadata": {},
   "outputs": [
    {
     "data": {
      "text/plain": [
       "array(['NEAR BAY', 'NEAR OCEAN', 'ISLAND'], dtype=object)"
      ]
     },
     "execution_count": 29,
     "metadata": {},
     "output_type": "execute_result"
    }
   ],
   "source": [
    "waterfront_df = df[df['ocean_proximity'].isin(['NEAR OCEAN', 'NEAR BAY', 'ISLAND'])]\n",
    "waterfront_df['ocean_proximity'].unique()\n"
   ]
  },
  {
   "cell_type": "markdown",
   "metadata": {},
   "source": [
    "## Advanced CSV and Excel Spreadsheet Loading\n",
    "There are a lot of special options we can use when reading/writing csv/excel files.\n",
    " - pd.read_csv() - read in a csv file\n",
    " - df.to_csv() - save a dataframe out to a file\n",
    " - pd.read_excel() - read a msoft excel spreadsheet\n",
    " - pd.to_excel() - save a dataframe out to an excel spreadsheet"
   ]
  },
  {
   "cell_type": "markdown",
   "metadata": {},
   "source": [
    "### Reading a CSV File\n",
    "We've already seen how to read a csv - `pd.read_csv({file_name})`, but there is a lot more to this function:\n",
    " - header=None: Don't try to read in a header for the data (there isn't always a header provided in the dataset)\n",
    " - nrows=int: Sometimes there is formatting or empty space prior to our data, this allows us to skip rows when reading\n",
    " - dtype=dict: Pandas will try to automatically detect the **dtypes** of each column of data, but it isn't always 100% accurate\n",
    " - etc."
   ]
  },
  {
   "cell_type": "code",
   "execution_count": 31,
   "metadata": {},
   "outputs": [
    {
     "data": {
      "text/html": [
       "<div>\n",
       "<style scoped>\n",
       "    .dataframe tbody tr th:only-of-type {\n",
       "        vertical-align: middle;\n",
       "    }\n",
       "\n",
       "    .dataframe tbody tr th {\n",
       "        vertical-align: top;\n",
       "    }\n",
       "\n",
       "    .dataframe thead th {\n",
       "        text-align: right;\n",
       "    }\n",
       "</style>\n",
       "<table border=\"1\" class=\"dataframe\">\n",
       "  <thead>\n",
       "    <tr style=\"text-align: right;\">\n",
       "      <th></th>\n",
       "      <th>0</th>\n",
       "      <th>1</th>\n",
       "      <th>2</th>\n",
       "      <th>3</th>\n",
       "      <th>4</th>\n",
       "      <th>5</th>\n",
       "      <th>6</th>\n",
       "      <th>7</th>\n",
       "      <th>8</th>\n",
       "      <th>9</th>\n",
       "      <th>10</th>\n",
       "      <th>11</th>\n",
       "      <th>12</th>\n",
       "    </tr>\n",
       "  </thead>\n",
       "  <tbody>\n",
       "    <tr>\n",
       "      <th>0</th>\n",
       "      <td>longitude</td>\n",
       "      <td>latitude</td>\n",
       "      <td>housing_median_age</td>\n",
       "      <td>total_rooms</td>\n",
       "      <td>total_bedrooms</td>\n",
       "      <td>population</td>\n",
       "      <td>households</td>\n",
       "      <td>median_income</td>\n",
       "      <td>median_house_value</td>\n",
       "      <td>ocean_proximity</td>\n",
       "      <td>NaN</td>\n",
       "      <td>NaN</td>\n",
       "      <td>Source - https://www.kaggle.com/harrywang/hous...</td>\n",
       "    </tr>\n",
       "    <tr>\n",
       "      <th>1</th>\n",
       "      <td>-122.23</td>\n",
       "      <td>37.88</td>\n",
       "      <td>41</td>\n",
       "      <td>880</td>\n",
       "      <td>129</td>\n",
       "      <td>322</td>\n",
       "      <td>126</td>\n",
       "      <td>8.3252</td>\n",
       "      <td>452600</td>\n",
       "      <td>NEAR BAY</td>\n",
       "      <td>NaN</td>\n",
       "      <td>NaN</td>\n",
       "      <td>NaN</td>\n",
       "    </tr>\n",
       "    <tr>\n",
       "      <th>2</th>\n",
       "      <td>-122.22</td>\n",
       "      <td>37.86</td>\n",
       "      <td>21</td>\n",
       "      <td>7099</td>\n",
       "      <td>1106</td>\n",
       "      <td>2401</td>\n",
       "      <td>1138</td>\n",
       "      <td>8.3014</td>\n",
       "      <td>358500</td>\n",
       "      <td>NEAR BAY</td>\n",
       "      <td>NaN</td>\n",
       "      <td>NaN</td>\n",
       "      <td>NaN</td>\n",
       "    </tr>\n",
       "    <tr>\n",
       "      <th>3</th>\n",
       "      <td>-122.24</td>\n",
       "      <td>37.85</td>\n",
       "      <td>52</td>\n",
       "      <td>1467</td>\n",
       "      <td>190</td>\n",
       "      <td>496</td>\n",
       "      <td>177</td>\n",
       "      <td>7.2574</td>\n",
       "      <td>352100</td>\n",
       "      <td>NEAR BAY</td>\n",
       "      <td>NaN</td>\n",
       "      <td>NaN</td>\n",
       "      <td>NaN</td>\n",
       "    </tr>\n",
       "    <tr>\n",
       "      <th>4</th>\n",
       "      <td>-122.25</td>\n",
       "      <td>37.85</td>\n",
       "      <td>52</td>\n",
       "      <td>1274</td>\n",
       "      <td>235</td>\n",
       "      <td>558</td>\n",
       "      <td>219</td>\n",
       "      <td>5.6431</td>\n",
       "      <td>341300</td>\n",
       "      <td>NEAR BAY</td>\n",
       "      <td>NaN</td>\n",
       "      <td>NaN</td>\n",
       "      <td>NaN</td>\n",
       "    </tr>\n",
       "  </tbody>\n",
       "</table>\n",
       "</div>"
      ],
      "text/plain": [
       "          0         1                   2            3               4   \\\n",
       "0  longitude  latitude  housing_median_age  total_rooms  total_bedrooms   \n",
       "1    -122.23     37.88                  41          880             129   \n",
       "2    -122.22     37.86                  21         7099            1106   \n",
       "3    -122.24     37.85                  52         1467             190   \n",
       "4    -122.25     37.85                  52         1274             235   \n",
       "\n",
       "           5           6              7                   8                9   \\\n",
       "0  population  households  median_income  median_house_value  ocean_proximity   \n",
       "1         322         126         8.3252              452600         NEAR BAY   \n",
       "2        2401        1138         8.3014              358500         NEAR BAY   \n",
       "3         496         177         7.2574              352100         NEAR BAY   \n",
       "4         558         219         5.6431              341300         NEAR BAY   \n",
       "\n",
       "   10  11                                                 12  \n",
       "0 NaN NaN  Source - https://www.kaggle.com/harrywang/hous...  \n",
       "1 NaN NaN                                                NaN  \n",
       "2 NaN NaN                                                NaN  \n",
       "3 NaN NaN                                                NaN  \n",
       "4 NaN NaN                                                NaN  "
      ]
     },
     "execution_count": 31,
     "metadata": {},
     "output_type": "execute_result"
    }
   ],
   "source": [
    "df = pd.read_csv('housing.csv', header=None)\n",
    "df.head(5) # No column names??\n"
   ]
  },
  {
   "cell_type": "markdown",
   "metadata": {},
   "source": [
    "### Reading an Excel File\n",
    "Reading an Excel file is essentially the same as reading a csv file except for two things:\n",
    " 1. It requires an additional package to work (which isn't always installed by default)\n",
    " 2. It requires additional information about which sheet you are trying to read\n",
    "  - Excel spreadsheets can have multiple *sheets*, since **pandas** only works on singluar tables we need to specifiy a single sheet."
   ]
  },
  {
   "cell_type": "code",
   "execution_count": 32,
   "metadata": {},
   "outputs": [
    {
     "ename": "ImportError",
     "evalue": "Install xlrd >= 0.9.0 for Excel support",
     "output_type": "error",
     "traceback": [
      "\u001b[1;31m---------------------------------------------------------------------------\u001b[0m",
      "\u001b[1;31mModuleNotFoundError\u001b[0m                       Traceback (most recent call last)",
      "\u001b[1;32m~\\Anaconda3\\envs\\prog_analytics\\lib\\site-packages\\pandas\\io\\excel.py\u001b[0m in \u001b[0;36m__init__\u001b[1;34m(self, io, **kwds)\u001b[0m\n\u001b[0;32m    351\u001b[0m         \u001b[1;32mtry\u001b[0m\u001b[1;33m:\u001b[0m\u001b[1;33m\u001b[0m\u001b[0m\n\u001b[1;32m--> 352\u001b[1;33m             \u001b[1;32mimport\u001b[0m \u001b[0mxlrd\u001b[0m\u001b[1;33m\u001b[0m\u001b[0m\n\u001b[0m\u001b[0;32m    353\u001b[0m         \u001b[1;32mexcept\u001b[0m \u001b[0mImportError\u001b[0m\u001b[1;33m:\u001b[0m\u001b[1;33m\u001b[0m\u001b[0m\n",
      "\u001b[1;31mModuleNotFoundError\u001b[0m: No module named 'xlrd'",
      "\nDuring handling of the above exception, another exception occurred:\n",
      "\u001b[1;31mImportError\u001b[0m                               Traceback (most recent call last)",
      "\u001b[1;32m<ipython-input-32-1df66453ee7a>\u001b[0m in \u001b[0;36m<module>\u001b[1;34m()\u001b[0m\n\u001b[1;32m----> 1\u001b[1;33m \u001b[0mpd\u001b[0m\u001b[1;33m.\u001b[0m\u001b[0mread_excel\u001b[0m\u001b[1;33m(\u001b[0m\u001b[1;34m'housing.xlsx'\u001b[0m\u001b[1;33m,\u001b[0m \u001b[0msheet_name\u001b[0m\u001b[1;33m=\u001b[0m\u001b[1;34m'data'\u001b[0m\u001b[1;33m)\u001b[0m\u001b[1;33m\u001b[0m\u001b[0m\n\u001b[0m",
      "\u001b[1;32m~\\Anaconda3\\envs\\prog_analytics\\lib\\site-packages\\pandas\\util\\_decorators.py\u001b[0m in \u001b[0;36mwrapper\u001b[1;34m(*args, **kwargs)\u001b[0m\n\u001b[0;32m    176\u001b[0m                 \u001b[1;32melse\u001b[0m\u001b[1;33m:\u001b[0m\u001b[1;33m\u001b[0m\u001b[0m\n\u001b[0;32m    177\u001b[0m                     \u001b[0mkwargs\u001b[0m\u001b[1;33m[\u001b[0m\u001b[0mnew_arg_name\u001b[0m\u001b[1;33m]\u001b[0m \u001b[1;33m=\u001b[0m \u001b[0mnew_arg_value\u001b[0m\u001b[1;33m\u001b[0m\u001b[0m\n\u001b[1;32m--> 178\u001b[1;33m             \u001b[1;32mreturn\u001b[0m \u001b[0mfunc\u001b[0m\u001b[1;33m(\u001b[0m\u001b[1;33m*\u001b[0m\u001b[0margs\u001b[0m\u001b[1;33m,\u001b[0m \u001b[1;33m**\u001b[0m\u001b[0mkwargs\u001b[0m\u001b[1;33m)\u001b[0m\u001b[1;33m\u001b[0m\u001b[0m\n\u001b[0m\u001b[0;32m    179\u001b[0m         \u001b[1;32mreturn\u001b[0m \u001b[0mwrapper\u001b[0m\u001b[1;33m\u001b[0m\u001b[0m\n\u001b[0;32m    180\u001b[0m     \u001b[1;32mreturn\u001b[0m \u001b[0m_deprecate_kwarg\u001b[0m\u001b[1;33m\u001b[0m\u001b[0m\n",
      "\u001b[1;32m~\\Anaconda3\\envs\\prog_analytics\\lib\\site-packages\\pandas\\util\\_decorators.py\u001b[0m in \u001b[0;36mwrapper\u001b[1;34m(*args, **kwargs)\u001b[0m\n\u001b[0;32m    176\u001b[0m                 \u001b[1;32melse\u001b[0m\u001b[1;33m:\u001b[0m\u001b[1;33m\u001b[0m\u001b[0m\n\u001b[0;32m    177\u001b[0m                     \u001b[0mkwargs\u001b[0m\u001b[1;33m[\u001b[0m\u001b[0mnew_arg_name\u001b[0m\u001b[1;33m]\u001b[0m \u001b[1;33m=\u001b[0m \u001b[0mnew_arg_value\u001b[0m\u001b[1;33m\u001b[0m\u001b[0m\n\u001b[1;32m--> 178\u001b[1;33m             \u001b[1;32mreturn\u001b[0m \u001b[0mfunc\u001b[0m\u001b[1;33m(\u001b[0m\u001b[1;33m*\u001b[0m\u001b[0margs\u001b[0m\u001b[1;33m,\u001b[0m \u001b[1;33m**\u001b[0m\u001b[0mkwargs\u001b[0m\u001b[1;33m)\u001b[0m\u001b[1;33m\u001b[0m\u001b[0m\n\u001b[0m\u001b[0;32m    179\u001b[0m         \u001b[1;32mreturn\u001b[0m \u001b[0mwrapper\u001b[0m\u001b[1;33m\u001b[0m\u001b[0m\n\u001b[0;32m    180\u001b[0m     \u001b[1;32mreturn\u001b[0m \u001b[0m_deprecate_kwarg\u001b[0m\u001b[1;33m\u001b[0m\u001b[0m\n",
      "\u001b[1;32m~\\Anaconda3\\envs\\prog_analytics\\lib\\site-packages\\pandas\\io\\excel.py\u001b[0m in \u001b[0;36mread_excel\u001b[1;34m(io, sheet_name, header, names, index_col, usecols, squeeze, dtype, engine, converters, true_values, false_values, skiprows, nrows, na_values, parse_dates, date_parser, thousands, comment, skipfooter, convert_float, **kwds)\u001b[0m\n\u001b[0;32m    305\u001b[0m \u001b[1;33m\u001b[0m\u001b[0m\n\u001b[0;32m    306\u001b[0m     \u001b[1;32mif\u001b[0m \u001b[1;32mnot\u001b[0m \u001b[0misinstance\u001b[0m\u001b[1;33m(\u001b[0m\u001b[0mio\u001b[0m\u001b[1;33m,\u001b[0m \u001b[0mExcelFile\u001b[0m\u001b[1;33m)\u001b[0m\u001b[1;33m:\u001b[0m\u001b[1;33m\u001b[0m\u001b[0m\n\u001b[1;32m--> 307\u001b[1;33m         \u001b[0mio\u001b[0m \u001b[1;33m=\u001b[0m \u001b[0mExcelFile\u001b[0m\u001b[1;33m(\u001b[0m\u001b[0mio\u001b[0m\u001b[1;33m,\u001b[0m \u001b[0mengine\u001b[0m\u001b[1;33m=\u001b[0m\u001b[0mengine\u001b[0m\u001b[1;33m)\u001b[0m\u001b[1;33m\u001b[0m\u001b[0m\n\u001b[0m\u001b[0;32m    308\u001b[0m \u001b[1;33m\u001b[0m\u001b[0m\n\u001b[0;32m    309\u001b[0m     return io.parse(\n",
      "\u001b[1;32m~\\Anaconda3\\envs\\prog_analytics\\lib\\site-packages\\pandas\\io\\excel.py\u001b[0m in \u001b[0;36m__init__\u001b[1;34m(self, io, **kwds)\u001b[0m\n\u001b[0;32m    352\u001b[0m             \u001b[1;32mimport\u001b[0m \u001b[0mxlrd\u001b[0m\u001b[1;33m\u001b[0m\u001b[0m\n\u001b[0;32m    353\u001b[0m         \u001b[1;32mexcept\u001b[0m \u001b[0mImportError\u001b[0m\u001b[1;33m:\u001b[0m\u001b[1;33m\u001b[0m\u001b[0m\n\u001b[1;32m--> 354\u001b[1;33m             \u001b[1;32mraise\u001b[0m \u001b[0mImportError\u001b[0m\u001b[1;33m(\u001b[0m\u001b[0merr_msg\u001b[0m\u001b[1;33m)\u001b[0m\u001b[1;33m\u001b[0m\u001b[0m\n\u001b[0m\u001b[0;32m    355\u001b[0m         \u001b[1;32melse\u001b[0m\u001b[1;33m:\u001b[0m\u001b[1;33m\u001b[0m\u001b[0m\n\u001b[0;32m    356\u001b[0m             \u001b[0mver\u001b[0m \u001b[1;33m=\u001b[0m \u001b[0mtuple\u001b[0m\u001b[1;33m(\u001b[0m\u001b[0mmap\u001b[0m\u001b[1;33m(\u001b[0m\u001b[0mint\u001b[0m\u001b[1;33m,\u001b[0m \u001b[0mxlrd\u001b[0m\u001b[1;33m.\u001b[0m\u001b[0m__VERSION__\u001b[0m\u001b[1;33m.\u001b[0m\u001b[0msplit\u001b[0m\u001b[1;33m(\u001b[0m\u001b[1;34m\".\"\u001b[0m\u001b[1;33m)\u001b[0m\u001b[1;33m[\u001b[0m\u001b[1;33m:\u001b[0m\u001b[1;36m2\u001b[0m\u001b[1;33m]\u001b[0m\u001b[1;33m)\u001b[0m\u001b[1;33m)\u001b[0m\u001b[1;33m\u001b[0m\u001b[0m\n",
      "\u001b[1;31mImportError\u001b[0m: Install xlrd >= 0.9.0 for Excel support"
     ]
    }
   ],
   "source": [
    "pd.read_excel('housing.xlsx', sheet_name='data')"
   ]
  },
  {
   "cell_type": "markdown",
   "metadata": {},
   "source": [
    "### Saving a Dataframe to CSV\n",
    "While we can read *xslx* or Excel files, we can only save out to CSV. To accomplish this we simply need to `df.to_csv({file_name})`. For the most part that is all that is needed, although I usually run it with the param `df.to_csv({file_name}, index=False)`"
   ]
  },
  {
   "cell_type": "code",
   "execution_count": 58,
   "metadata": {},
   "outputs": [],
   "source": [
    "df = pd.read_csv('housing.csv')\n",
    "waterfront_df = df[df['ocean_proximity'].isin(['NEAR OCEAN', 'NEAR BAY', 'ISLAND'])]\n",
    "waterfront_df.to_csv('waterfront_housing.csv', index=False)"
   ]
  },
  {
   "cell_type": "code",
   "execution_count": 59,
   "metadata": {},
   "outputs": [
    {
     "data": {
      "text/html": [
       "<div>\n",
       "<style scoped>\n",
       "    .dataframe tbody tr th:only-of-type {\n",
       "        vertical-align: middle;\n",
       "    }\n",
       "\n",
       "    .dataframe tbody tr th {\n",
       "        vertical-align: top;\n",
       "    }\n",
       "\n",
       "    .dataframe thead th {\n",
       "        text-align: right;\n",
       "    }\n",
       "</style>\n",
       "<table border=\"1\" class=\"dataframe\">\n",
       "  <thead>\n",
       "    <tr style=\"text-align: right;\">\n",
       "      <th></th>\n",
       "      <th>longitude</th>\n",
       "      <th>latitude</th>\n",
       "      <th>housing_median_age</th>\n",
       "      <th>total_rooms</th>\n",
       "      <th>total_bedrooms</th>\n",
       "      <th>population</th>\n",
       "      <th>households</th>\n",
       "      <th>median_income</th>\n",
       "      <th>median_house_value</th>\n",
       "      <th>ocean_proximity</th>\n",
       "      <th>Unnamed: 10</th>\n",
       "      <th>Unnamed: 11</th>\n",
       "      <th>Source - https://www.kaggle.com/harrywang/housing#housing.csv</th>\n",
       "    </tr>\n",
       "  </thead>\n",
       "  <tbody>\n",
       "    <tr>\n",
       "      <th>0</th>\n",
       "      <td>-122.23</td>\n",
       "      <td>37.88</td>\n",
       "      <td>41</td>\n",
       "      <td>880</td>\n",
       "      <td>129.0</td>\n",
       "      <td>322</td>\n",
       "      <td>126</td>\n",
       "      <td>8.3252</td>\n",
       "      <td>452600</td>\n",
       "      <td>NEAR BAY</td>\n",
       "      <td>NaN</td>\n",
       "      <td>NaN</td>\n",
       "      <td>NaN</td>\n",
       "    </tr>\n",
       "    <tr>\n",
       "      <th>1</th>\n",
       "      <td>-122.22</td>\n",
       "      <td>37.86</td>\n",
       "      <td>21</td>\n",
       "      <td>7099</td>\n",
       "      <td>1106.0</td>\n",
       "      <td>2401</td>\n",
       "      <td>1138</td>\n",
       "      <td>8.3014</td>\n",
       "      <td>358500</td>\n",
       "      <td>NEAR BAY</td>\n",
       "      <td>NaN</td>\n",
       "      <td>NaN</td>\n",
       "      <td>NaN</td>\n",
       "    </tr>\n",
       "    <tr>\n",
       "      <th>2</th>\n",
       "      <td>-122.24</td>\n",
       "      <td>37.85</td>\n",
       "      <td>52</td>\n",
       "      <td>1467</td>\n",
       "      <td>190.0</td>\n",
       "      <td>496</td>\n",
       "      <td>177</td>\n",
       "      <td>7.2574</td>\n",
       "      <td>352100</td>\n",
       "      <td>NEAR BAY</td>\n",
       "      <td>NaN</td>\n",
       "      <td>NaN</td>\n",
       "      <td>NaN</td>\n",
       "    </tr>\n",
       "    <tr>\n",
       "      <th>3</th>\n",
       "      <td>-122.25</td>\n",
       "      <td>37.85</td>\n",
       "      <td>52</td>\n",
       "      <td>1274</td>\n",
       "      <td>235.0</td>\n",
       "      <td>558</td>\n",
       "      <td>219</td>\n",
       "      <td>5.6431</td>\n",
       "      <td>341300</td>\n",
       "      <td>NEAR BAY</td>\n",
       "      <td>NaN</td>\n",
       "      <td>NaN</td>\n",
       "      <td>NaN</td>\n",
       "    </tr>\n",
       "    <tr>\n",
       "      <th>4</th>\n",
       "      <td>-122.25</td>\n",
       "      <td>37.85</td>\n",
       "      <td>52</td>\n",
       "      <td>1627</td>\n",
       "      <td>280.0</td>\n",
       "      <td>565</td>\n",
       "      <td>259</td>\n",
       "      <td>3.8462</td>\n",
       "      <td>342200</td>\n",
       "      <td>NEAR BAY</td>\n",
       "      <td>NaN</td>\n",
       "      <td>NaN</td>\n",
       "      <td>NaN</td>\n",
       "    </tr>\n",
       "  </tbody>\n",
       "</table>\n",
       "</div>"
      ],
      "text/plain": [
       "   longitude  latitude  housing_median_age  total_rooms  total_bedrooms  \\\n",
       "0    -122.23     37.88                  41          880           129.0   \n",
       "1    -122.22     37.86                  21         7099          1106.0   \n",
       "2    -122.24     37.85                  52         1467           190.0   \n",
       "3    -122.25     37.85                  52         1274           235.0   \n",
       "4    -122.25     37.85                  52         1627           280.0   \n",
       "\n",
       "   population  households  median_income  median_house_value ocean_proximity  \\\n",
       "0         322         126         8.3252              452600        NEAR BAY   \n",
       "1        2401        1138         8.3014              358500        NEAR BAY   \n",
       "2         496         177         7.2574              352100        NEAR BAY   \n",
       "3         558         219         5.6431              341300        NEAR BAY   \n",
       "4         565         259         3.8462              342200        NEAR BAY   \n",
       "\n",
       "   Unnamed: 10  Unnamed: 11  \\\n",
       "0          NaN          NaN   \n",
       "1          NaN          NaN   \n",
       "2          NaN          NaN   \n",
       "3          NaN          NaN   \n",
       "4          NaN          NaN   \n",
       "\n",
       "   Source - https://www.kaggle.com/harrywang/housing#housing.csv  \n",
       "0                                                NaN              \n",
       "1                                                NaN              \n",
       "2                                                NaN              \n",
       "3                                                NaN              \n",
       "4                                                NaN              "
      ]
     },
     "execution_count": 59,
     "metadata": {},
     "output_type": "execute_result"
    }
   ],
   "source": [
    "new_df = pd.read_csv('waterfront_housing.csv')\n",
    "new_df.head(5)"
   ]
  },
  {
   "cell_type": "markdown",
   "metadata": {},
   "source": [
    "## In-Class Work: Problem 2\n",
    "Recreate the waterfront_housing.csv with `index=True` and read the CSV back in. What happened? Attempt to fix how you read in the CSV so it looks as you would expect."
   ]
  },
  {
   "cell_type": "code",
   "execution_count": 35,
   "metadata": {},
   "outputs": [],
   "source": [
    "# Problem 2\n"
   ]
  },
  {
   "cell_type": "markdown",
   "metadata": {},
   "source": [
    "# Cut-Off Point!"
   ]
  },
  {
   "cell_type": "markdown",
   "metadata": {},
   "source": [
    "## Dealing with Missing Data\n",
    "Very commonly in analytics we'll run into a dataset that isn't complete (e.g. missing data for certain rows). Thus there are a number of things we need to be able to do to handle situations like this."
   ]
  },
  {
   "cell_type": "code",
   "execution_count": 68,
   "metadata": {},
   "outputs": [
    {
     "name": "stdout",
     "output_type": "stream",
     "text": [
      "Data with NAN's:\n",
      "0     1.0\n",
      "1     NaN\n",
      "2    23.0\n",
      "3     NaN\n",
      "4     3.2\n",
      "5     NaN\n",
      "dtype: float64\n",
      "\n",
      "Data without NAN's (dropna()):\n",
      "0     1.0\n",
      "2    23.0\n",
      "4     3.2\n",
      "dtype: float64\n",
      "\n",
      "Data without NAN's (filetering):\n",
      "0     1.0\n",
      "2    23.0\n",
      "4     3.2\n",
      "dtype: float64\n"
     ]
    }
   ],
   "source": [
    "# Working with Series\n",
    "s1 = pd.Series([1, np.nan, 23, np.nan, 3.2, None])\n",
    "print(\"Data with NAN's:\")\n",
    "print(s1)\n",
    "print(\"\\nData without NAN's (dropna()):\")\n",
    "print(s1.dropna()) # We can drop any np.nan values simply by droping them\n",
    "print(\"\\nData without NAN's (filetering):\")\n",
    "print(s1[s1.notnull()]) # We could also just filter them out with indexing\n"
   ]
  },
  {
   "cell_type": "markdown",
   "metadata": {},
   "source": [
    "Very similar operations exist for dataframes"
   ]
  },
  {
   "cell_type": "code",
   "execution_count": 7,
   "metadata": {},
   "outputs": [
    {
     "name": "stdout",
     "output_type": "stream",
     "text": [
      "     0    1    2\n",
      "0  1.0  2.0  3.0\n",
      "1  1.0  NaN  NaN\n",
      "2  NaN  NaN  NaN\n",
      "3  NaN  6.0  3.0\n"
     ]
    }
   ],
   "source": [
    "#Handling missing values in Pandas (DataFrame)\n",
    "\n",
    "df = pd.DataFrame([[1,2,3], [1, np.nan, np.nan],\n",
    "                [np.nan, np.nan, np.nan], [np.nan, 6, 3]])\n",
    "print(df)\n"
   ]
  },
  {
   "cell_type": "code",
   "execution_count": 8,
   "metadata": {},
   "outputs": [
    {
     "name": "stdout",
     "output_type": "stream",
     "text": [
      "\n",
      "DataFrame with removed NAN's (dropna()):\n",
      "     0    1    2\n",
      "0  1.0  2.0  3.0\n",
      "\n",
      "DataFrame with all NAN's removed:\n",
      "     0    1    2\n",
      "0  1.0  2.0  3.0\n",
      "1  1.0  NaN  NaN\n",
      "3  NaN  6.0  3.0\n",
      "\n",
      "DataFrame with thresholded NAN's removed:\n",
      "     0    1    2\n",
      "0  1.0  2.0  3.0\n",
      "3  NaN  6.0  3.0\n"
     ]
    }
   ],
   "source": [
    "print(\"\\nDataFrame with removed NAN's (dropna()):\")\n",
    "print(df.dropna()) # Leaves us with only entries without any NAN\n",
    "\n",
    "print(\"\\nDataFrame with all NAN's removed:\")\n",
    "print(df.dropna(how='all')) # only remove records where every value is nan\n",
    "\n",
    "print(\"\\nDataFrame with thresholded NAN's removed:\")\n",
    "print(df.dropna(thresh=2)) # only remove records where two or more  nans exist"
   ]
  },
  {
   "cell_type": "markdown",
   "metadata": {},
   "source": [
    "## Filling Nans\n",
    "Sometimes there might be a value that can logically be used to replace missing data. In this case we can fill in the nan values. "
   ]
  },
  {
   "cell_type": "code",
   "execution_count": 21,
   "metadata": {},
   "outputs": [
    {
     "name": "stdout",
     "output_type": "stream",
     "text": [
      "     0    1    2\n",
      "0  1.0  3.2  5.0\n",
      "1  1.0  NaN  NaN\n",
      "2  NaN  NaN  NaN\n",
      "3  NaN  6.0  3.0\n",
      "\n",
      "DataFrame filled with 0's:\n",
      "     0    1    2\n",
      "0  1.0  3.2  5.0\n",
      "1  1.0  0.0  0.0\n",
      "2  0.0  0.0  0.0\n",
      "3  0.0  6.0  3.0\n",
      "\n",
      "We can also do column defualts:\n",
      "     0    1    2\n",
      "0  1.0  3.2  5.0\n",
      "1  1.0  1.0  2.0\n",
      "2  0.0  1.0  2.0\n",
      "3  0.0  6.0  3.0\n"
     ]
    }
   ],
   "source": [
    "df = pd.DataFrame([[1,3.2,5], [1, np.nan, np.nan],\n",
    "                [np.nan, np.nan, np.nan], [np.nan, 6, 3]])\n",
    "print(df)\n",
    "\n",
    "print(\"\\nDataFrame filled with 0's:\")\n",
    "print(df.fillna(0)) # Here we simply fill an nan with 0\n",
    "\n",
    "print(\"\\nWe can also do column defualts:\")\n",
    "print(df.fillna({x:x for x in range(df.shape[0])})) # Fill in nans by column number\n"
   ]
  },
  {
   "cell_type": "code",
   "execution_count": 22,
   "metadata": {},
   "outputs": [
    {
     "name": "stdout",
     "output_type": "stream",
     "text": [
      "     0    1    2\n",
      "0  1.0  3.2  5.0\n",
      "1  1.0  NaN  NaN\n",
      "2  NaN  NaN  NaN\n",
      "3  NaN  6.0  3.0\n",
      "\n",
      "DataFrame.fillna() ffill:\n",
      "     0    1    2\n",
      "0  1.0  3.2  5.0\n",
      "1  1.0  6.0  3.0\n",
      "2  NaN  6.0  3.0\n",
      "3  NaN  6.0  3.0\n"
     ]
    }
   ],
   "source": [
    "\"\"\"There are also a 'methods' parameter which defines a couple of methods for filing in data:\n",
    "    - pad/ffill: takes the last known value and propogates it forward\n",
    "    - backfill/bfill: takes the next known value and backfills the value\n",
    "\"\"\"\n",
    "\n",
    "print(df)\n",
    "print(\"\\nDataFrame.fillna() ffill:\")\n",
    "print(df.fillna(method='bfill'))"
   ]
  },
  {
   "cell_type": "markdown",
   "metadata": {},
   "source": [
    "### In class work"
   ]
  },
  {
   "cell_type": "code",
   "execution_count": 19,
   "metadata": {},
   "outputs": [
    {
     "name": "stdout",
     "output_type": "stream",
     "text": [
      "50\n",
      "        data\n",
      "0   1.331587\n",
      "1   0.715279\n",
      "2  -1.545400\n",
      "3  -0.008384\n",
      "4   0.621336\n",
      "5  -0.720086\n",
      "6   0.265512\n",
      "7   0.108549\n",
      "8   0.004291\n",
      "9  -0.174600\n",
      "10  0.433026\n",
      "11  1.203037\n",
      "12 -0.965066\n",
      "13  1.028274\n",
      "14  0.228630\n",
      "15  0.445138\n",
      "16 -1.136602\n",
      "17  0.135137\n",
      "18  1.484537\n",
      "19 -1.079805\n",
      "20 -1.977728\n",
      "21 -1.743372\n",
      "22  0.266070\n",
      "23  2.384967\n",
      "24  1.123691\n",
      "25  1.672622\n",
      "26  0.099149\n",
      "27  1.397996\n",
      "28 -0.271248\n",
      "29  0.613204\n",
      "..       ...\n",
      "70  0.319356\n",
      "71  0.460903\n",
      "72 -0.215790\n",
      "73  0.989072\n",
      "74  0.314754\n",
      "75  2.467651\n",
      "76 -1.508321\n",
      "77  0.620601\n",
      "78 -1.045133\n",
      "79 -0.798009\n",
      "80  1.985085\n",
      "81  1.744814\n",
      "82 -1.856185\n",
      "83 -0.222774\n",
      "84 -0.065848\n",
      "85 -2.131712\n",
      "86 -0.048831\n",
      "87  0.393341\n",
      "88  0.217265\n",
      "89 -1.994394\n",
      "90  1.107708\n",
      "91  0.244544\n",
      "92 -0.061912\n",
      "93 -0.753893\n",
      "94  0.711959\n",
      "95  0.918269\n",
      "96 -0.482093\n",
      "97  0.089588\n",
      "98  0.826999\n",
      "99 -1.954512\n",
      "\n",
      "[100 rows x 1 columns]\n",
      "No Nans = -0.07256959619213524\n",
      "Backfill = 0.07833747948942063\n",
      "Forwardfill = 0.12376859652886857\n"
     ]
    }
   ],
   "source": [
    "#Problem 1\n",
    "\"\"\"Given the provided DataFrame, how does bfill affect the mean value compared to mean without NaN's?\n",
    "\"\"\"\n",
    "np.random.seed(10)\n",
    "df = pd.DataFrame({'data': np.random.randn(100)})\n",
    "nans = np.random.choice(range(df.shape[0]), size=int(df.shape[0]/2), replace=False)\n",
    "print(len(nans))\n",
    "print(df)\n",
    "df.iloc[nans] = np.nan\n",
    "\n",
    "df_bfill = df.fillna(method='bfill')\n",
    "df_ffill = df.fillna(method='ffill')\n",
    "df_nona = df.dropna()\n",
    "print(f'No Nans = {np.mean(df_nona)[0]}\\nBackfill = {np.mean(df_bfill)[0]}\\nForwardfill = {np.mean(df_ffill)[0]}')"
   ]
  },
  {
   "cell_type": "markdown",
   "metadata": {},
   "source": [
    "## Merging DataFrames\n",
    "It is very common to end up with multiple dataframes at a given time. Typically some of these dataframes will be in the same domain, and you may want to join the data together. Merging dataframes can be very useful, but also tricky, due to the number of ways we can add data together.\n",
    "\n",
    "**pd.merge(df1, df2)** - This enables us to merge dataframes similar to a database join (the combination of every value in df1 to every value in df2)"
   ]
  },
  {
   "cell_type": "code",
   "execution_count": 23,
   "metadata": {},
   "outputs": [
    {
     "name": "stdout",
     "output_type": "stream",
     "text": [
      "DataFrame1:\n",
      "  key  data1\n",
      "0   b      0\n",
      "1   b      1\n",
      "2   a      2\n",
      "3   c      3\n",
      "4   a      4\n",
      "5   a      5\n",
      "6   b      6\n",
      "\n",
      "DataFrame2:\n",
      "  key  data2\n",
      "0   a      0\n",
      "1   b      1\n",
      "2   d      2\n",
      "\n",
      "Merged DataFrames - equal layout\n",
      "  key  data1  data2\n",
      "0   b      0      1\n",
      "1   b      1      1\n",
      "2   b      6      1\n",
      "3   a      2      0\n",
      "4   a      4      0\n",
      "5   a      5      0\n",
      "\n",
      "DataFrames merged by outer join:\n",
      "  key  data1  data2\n",
      "0   b    0.0    1.0\n",
      "1   b    1.0    1.0\n",
      "2   b    6.0    1.0\n",
      "3   a    2.0    0.0\n",
      "4   a    4.0    0.0\n",
      "5   a    5.0    0.0\n",
      "6   c    3.0    NaN\n",
      "7   d    NaN    2.0\n",
      "\n",
      "Merged DataFrames:\n",
      "  key  data1  data2\n",
      "0   b      0      1\n",
      "1   b      0      2\n",
      "2   b      1      1\n",
      "3   b      1      2\n",
      "4   b      6      1\n",
      "5   b      6      2\n",
      "6   a      2      0\n",
      "7   a      4      0\n",
      "8   a      5      0\n"
     ]
    }
   ],
   "source": [
    "df1 = pd.DataFrame({'key': ['b', 'b', 'a', 'c', 'a', 'a', 'b'], 'data1': range(7)})\n",
    "df2 = pd.DataFrame({'key': ['a', 'b', 'd'], 'data2': range(3)})\n",
    "\n",
    "print(\"DataFrame1:\")\n",
    "print(df1)\n",
    "print(\"\\nDataFrame2:\")\n",
    "print(df2)\n",
    "\n",
    "print(\"\\nMerged DataFrames - equal layout\")\n",
    "# pd.merge enables us to do an inner merge on DataFrames on shared columns\n",
    "print(pd.merge(df1, df2))\n",
    "\n",
    "# If we also want to include elements not found in both df, we can also use 'outer'\n",
    "print(\"\\nDataFrames merged by outer join:\")\n",
    "print(pd.merge(df1, df2, how='outer')) #Should now see c and d keys\n",
    "\n",
    "# This can result in odd behavior if there isn't a 1-to-1 alignment\n",
    "df2 = pd.DataFrame({'key': ['a', 'b', 'b', 'd'], 'data2': range(4)})\n",
    "print(\"\\nMerged DataFrames:\")\n",
    "print(pd.merge(df1, df2, on='key'))\n"
   ]
  },
  {
   "cell_type": "code",
   "execution_count": 34,
   "metadata": {},
   "outputs": [
    {
     "name": "stdout",
     "output_type": "stream",
     "text": [
      "\n",
      "Merged DataFrames defining the column to merge on:\n",
      "  key_set1  data1 key_set2  data2\n",
      "0        b      0        b      1\n",
      "1        b      1        b      1\n",
      "2        b      6        b      1\n",
      "3        a      2        a      0\n",
      "4        a      4        a      0\n",
      "5        a      5        a      0\n",
      "\n",
      "Merged DataFrames using multiple keys:\n",
      "  key1_set1  key2_set1  data1 key1_set2  key2_set2  data2\n",
      "0         b          2      1         b          2      1\n",
      "1         b          2      6         b          2      1\n",
      "2         a          1      2         a          1      0\n",
      "3         a          1      5         a          1      0\n"
     ]
    }
   ],
   "source": [
    "df1 = pd.DataFrame({'key_set1': ['b', 'b', 'a', 'c', 'a', 'a', 'b'], 'data1': range(7)})\n",
    "df2 = pd.DataFrame({'key_set2': ['a', 'b', 'd'], 'data2': range(3)})\n",
    "\n",
    "# If we don't have any shared columns, problems can arise\n",
    "#print(pd.merge(df1, df2)) #ERROR!\n",
    "\n",
    "# Thus sometimes we will either need to rename columns, or define the alignment manually\n",
    "print(\"\\nMerged DataFrames defining the column to merge on:\")\n",
    "print(pd.merge(df1, df2, left_on='key_set1', right_on='key_set2'))\n",
    "\n",
    "# We can also merge on multiple keys\n",
    "df1 = pd.DataFrame({'key1_set1': ['b', 'b', 'a', 'c', 'a', 'a', 'b'],\n",
    "                    'key2_set1': [1, 2, 1, 1, 2, 1, 2], 'data1': range(7)})\n",
    "df2 = pd.DataFrame({'key1_set2': ['a', 'b', 'd'], 'key2_set2': [1, 2, 1], \n",
    "                    'data2': range(3)})\n",
    "\n",
    "print(\"\\nMerged DataFrames using multiple keys:\")\n",
    "print(pd.merge(df1, df2, left_on=['key1_set1', 'key2_set1'], right_on=['key1_set2', 'key2_set2']))\n"
   ]
  },
  {
   "cell_type": "markdown",
   "metadata": {},
   "source": [
    "## Concatenating DataFrames\n",
    "This is honestly a more typical use of merging dataframes. In this situation we have identical traits for our data (types/column names/rows) and we simply want to create a larger dataframe"
   ]
  },
  {
   "cell_type": "code",
   "execution_count": 42,
   "metadata": {},
   "outputs": [
    {
     "name": "stdout",
     "output_type": "stream",
     "text": [
      "   one  two\n",
      "0    0    1\n",
      "1    2    3\n",
      "2    4    5\n",
      "   one  two  three\n",
      "0    8    4      1\n",
      "1    6    7      1\n",
      "2    7    1      2\n"
     ]
    }
   ],
   "source": [
    "# Sometimes you aren't trying to merge, but rather append, thus pd.concat\n",
    "df1 = pd.DataFrame(np.arange(6).reshape(3,2), columns=['one', 'two'])\n",
    "df2 = pd.DataFrame(np.random.randint(0, 10, 9).reshape(3,3), columns=['one', 'two', 'three'])\n",
    "print(df1)\n",
    "print(df2)"
   ]
  },
  {
   "cell_type": "code",
   "execution_count": 43,
   "metadata": {},
   "outputs": [
    {
     "name": "stdout",
     "output_type": "stream",
     "text": [
      "Simple Concatentation:\n",
      "   one  three  two\n",
      "0    0    NaN    1\n",
      "1    2    NaN    3\n",
      "2    4    NaN    5\n",
      "0    8    1.0    4\n",
      "1    6    1.0    7\n",
      "2    7    2.0    1\n"
     ]
    },
    {
     "name": "stderr",
     "output_type": "stream",
     "text": [
      "C:\\Users\\jdk51\\Anaconda3\\envs\\IntroNN\\lib\\site-packages\\ipykernel\\__main__.py:2: FutureWarning: Sorting because non-concatenation axis is not aligned. A future version\n",
      "of pandas will change to not sort by default.\n",
      "\n",
      "To accept the future behavior, pass 'sort=False'.\n",
      "\n",
      "To retain the current behavior and silence the warning, pass 'sort=True'.\n",
      "\n",
      "  from ipykernel import kernelapp as app\n"
     ]
    }
   ],
   "source": [
    "print(\"Simple Concatentation:\")\n",
    "print(pd.concat([df1, df2]))"
   ]
  },
  {
   "cell_type": "code",
   "execution_count": 28,
   "metadata": {},
   "outputs": [
    {
     "name": "stdout",
     "output_type": "stream",
     "text": [
      "\n",
      "Hierarchy of DataFrames:\n",
      "  data1     data2    \n",
      "    one two   one two\n",
      "0     0   1     3   8\n",
      "1     2   3     3   0\n",
      "2     4   5     9   6\n",
      "\n",
      "Accessing a slice of a hierarchical DataFrame:\n",
      "   one  two\n",
      "0    3    8\n",
      "1    3    0\n",
      "2    9    6\n",
      "MultiIndex(levels=[['data1', 'data2'], ['one', 'two']],\n",
      "           labels=[[0, 0, 1, 1], [0, 1, 0, 1]])\n"
     ]
    }
   ],
   "source": [
    "df_con = pd.concat([df1, df2], axis=1, keys=['data1', 'data2']) # This enables us to keep track of the source\n",
    "print(\"\\nHierarchy of DataFrames:\")\n",
    "print(df_con)\n",
    "\n",
    "print(\"\\nAccessing a slice of a hierarchical DataFrame:\")\n",
    "print(df_con['data2'])\n",
    "\n",
    "print(df_con.keys())"
   ]
  },
  {
   "cell_type": "code",
   "execution_count": 33,
   "metadata": {},
   "outputs": [
    {
     "name": "stdout",
     "output_type": "stream",
     "text": [
      "Column Concatenation:\n",
      "   one  two  three  four\n",
      "0    0    1      1     6\n",
      "1    2    3      6     7\n",
      "2    4    5      3     9\n"
     ]
    }
   ],
   "source": [
    "# Sometimes you aren't trying to merge, but rather append, thus pd.concat\n",
    "df1 = pd.DataFrame(np.arange(6).reshape(3,2), columns=['one', 'two'])\n",
    "df2 = pd.DataFrame(np.random.randint(0, 10, 6).reshape(3,2), columns=['three', 'four'])\n",
    "\n",
    "print(\"Column Concatenation:\")\n",
    "print(pd.concat([df1, df2], axis=1)) # Here we simply tag on the new cols at the end"
   ]
  },
  {
   "cell_type": "code",
   "execution_count": 41,
   "metadata": {},
   "outputs": [
    {
     "name": "stdout",
     "output_type": "stream",
     "text": [
      "Column Concatenation:\n",
      "   one  two  three  four  five  six\n",
      "0  0.0  1.0      0     7     7    4\n",
      "1  2.0  3.0      6     3     4    5\n",
      "2  4.0  5.0      3     5     9    2\n",
      "3  NaN  NaN      3     2     2    5\n"
     ]
    }
   ],
   "source": [
    "# Sometimes you aren't trying to merge, but rather append, thus pd.concat\n",
    "df1 = pd.DataFrame(np.arange(6).reshape(3,2), columns=['one', 'two'])\n",
    "df2 = pd.DataFrame(np.random.randint(0, 10, 16).reshape(4,4), columns=['three', 'four', 'five', 'six'])\n",
    "\n",
    "print(\"Column Concatenation:\")\n",
    "print(pd.concat([df1, df2], axis=1)) # Here we simply tag on the new cols at the end"
   ]
  },
  {
   "cell_type": "code",
   "execution_count": null,
   "metadata": {},
   "outputs": [],
   "source": []
  },
  {
   "cell_type": "markdown",
   "metadata": {},
   "source": [
    "## Grouping Data\n",
    "Very typically when working with data, we'll want to know trends within subsets or subgroups of our data (similar to \"Select * From tbl Group By expr\").\n",
    "\n",
    "The `df.groupby()` is what enables us to query the data in this manner."
   ]
  },
  {
   "cell_type": "code",
   "execution_count": 60,
   "metadata": {},
   "outputs": [
    {
     "name": "stdout",
     "output_type": "stream",
     "text": [
      "  key1 key2     data1     data2\n",
      "0    a  one  0.045853  0.581844\n",
      "1    a  two  1.501076 -2.186875\n",
      "2    b  one -0.356818  0.618370\n",
      "3    b  two -0.486026 -0.938191\n",
      "4    a  one  1.340376  1.707235\n"
     ]
    }
   ],
   "source": [
    "df = pd.DataFrame({'key1': ['a', 'a', 'b', 'b', 'a'],\n",
    "                  'key2': ['one', 'two', 'one', 'two', 'one'],\n",
    "                  'data1': np.random.randn(5),\n",
    "                  'data2': np.random.randn(5)})\n",
    "\n",
    "print(df)"
   ]
  },
  {
   "cell_type": "code",
   "execution_count": 49,
   "metadata": {},
   "outputs": [
    {
     "name": "stdout",
     "output_type": "stream",
     "text": [
      "\n",
      "\n",
      "Mean of our group:\n",
      "key1\n",
      "a   -0.059345\n",
      "b   -0.352261\n",
      "Name: data1, dtype: float64\n"
     ]
    }
   ],
   "source": [
    "\n",
    "# We can group a dataframe based on keys/columns with the groupby() method\n",
    "grouped = df['data1'].groupby(df['key1'])\n",
    "print()\n",
    "#print(grouped) # This doesn't have a very nice print statement\n",
    "\n",
    "# for name, group in grouped:\n",
    "#     print(name)\n",
    "#     print(group)\n",
    "\n",
    "# While a grouped object is a little unweildly on its own, it is quite useful\n",
    "print(\"\\nMean of our group:\")\n",
    "print(grouped.mean())\n",
    "\n"
   ]
  },
  {
   "cell_type": "code",
   "execution_count": 61,
   "metadata": {},
   "outputs": [
    {
     "name": "stdout",
     "output_type": "stream",
     "text": [
      "\n",
      "Mean of our group2:\n",
      "key1  key2\n",
      "a     one     0.693115\n",
      "      two     1.501076\n",
      "b     one    -0.356818\n",
      "      two    -0.486026\n",
      "Name: data1, dtype: float64\n",
      "\n",
      "Mean of our group3:\n",
      "key2  key1\n",
      "one   a       0.693115\n",
      "      b      -0.356818\n",
      "two   a       1.501076\n",
      "      b      -0.486026\n",
      "Name: data1, dtype: float64\n",
      "\n",
      "Easier view:\n",
      "key1         a         b\n",
      "key2                    \n",
      "one   0.693115 -0.356818\n",
      "two   1.501076 -0.486026\n"
     ]
    }
   ],
   "source": [
    "# We can group by a number of keys\n",
    "grouped = df['data1'].groupby([df['key1'], df['key2']])\n",
    "print(\"\\nMean of our group2:\")\n",
    "print(grouped.mean()) # We see a similar hierarchy as we saw when merging datasets\n",
    "\n",
    "# Note, list order for groupby matters\n",
    "grouped = df['data1'].groupby([df['key2'], df['key1']])\n",
    "print(\"\\nMean of our group3:\")\n",
    "print(grouped.mean())\n",
    "\n",
    "print(\"\\nEasier view:\")\n",
    "print(grouped.mean().unstack())\n"
   ]
  },
  {
   "cell_type": "code",
   "execution_count": 62,
   "metadata": {},
   "outputs": [
    {
     "name": "stdout",
     "output_type": "stream",
     "text": [
      "\n",
      "Mean on generic dataframe:\n",
      "         data1     data2\n",
      "key1                    \n",
      "a     0.962435  0.034068\n",
      "b    -0.421422 -0.159911\n",
      "\n",
      "Counting elements in group:\n",
      "      key2  data1  data2\n",
      "key1                    \n",
      "a        3      3      3\n",
      "b        2      2      2\n"
     ]
    }
   ],
   "source": [
    "#We don't always have to define the column we are interested in\n",
    "print(\"\\nMean on generic dataframe:\")\n",
    "print(df.groupby('key1').mean()) #Note: only numerics will be shown, since it's the mean\n",
    "\n",
    "print(\"\\nCounting elements in group:\")\n",
    "print(df.groupby('key1').count()) #Note: only numerics will be shown\n",
    "\n"
   ]
  },
  {
   "cell_type": "markdown",
   "metadata": {},
   "source": [
    "Iterating through the groups object is similar to iterating through a dict.items():\n",
    " - `name, group in df.groupby(cols):`"
   ]
  },
  {
   "cell_type": "code",
   "execution_count": 63,
   "metadata": {},
   "outputs": [
    {
     "name": "stdout",
     "output_type": "stream",
     "text": [
      "\n",
      "Iterating through a group\n",
      "a\n",
      "  key1 key2     data1     data2\n",
      "0    a  one  0.045853  0.581844\n",
      "1    a  two  1.501076 -2.186875\n",
      "4    a  one  1.340376  1.707235\n",
      "b\n",
      "  key1 key2     data1     data2\n",
      "2    b  one -0.356818  0.618370\n",
      "3    b  two -0.486026 -0.938191\n",
      "\n",
      "\n",
      "Iterating with multiple keys:\n",
      "('a', 'one')\n",
      "  key1 key2     data1     data2\n",
      "0    a  one  0.045853  0.581844\n",
      "4    a  one  1.340376  1.707235\n",
      "\n",
      "('a', 'two')\n",
      "  key1 key2     data1     data2\n",
      "1    a  two  1.501076 -2.186875\n",
      "\n",
      "('b', 'one')\n",
      "  key1 key2     data1    data2\n",
      "2    b  one -0.356818  0.61837\n",
      "\n",
      "('b', 'two')\n",
      "  key1 key2     data1     data2\n",
      "3    b  two -0.486026 -0.938191\n",
      "\n"
     ]
    }
   ],
   "source": [
    "#Iterating through Groups\n",
    "\n",
    "print(\"\\nIterating through a group\")\n",
    "for name, group in df.groupby('key1'):\n",
    "    print(name)\n",
    "    print(group)\n",
    "\n",
    "print(\"\\n\\nIterating with multiple keys:\")\n",
    "for (k1, k2), group in df.groupby(['key1', 'key2']):\n",
    "    print((k1, k2))\n",
    "    print(group)\n",
    "    print()\n",
    "    "
   ]
  },
  {
   "cell_type": "markdown",
   "metadata": {},
   "source": [
    "## Aggregating Functions in DataFrames\n",
    "When we group data, we are also provided the opportunity of providing aggregate functions to provide insights into the groups which can be implemented using the **agg()** method."
   ]
  },
  {
   "cell_type": "code",
   "execution_count": 65,
   "metadata": {},
   "outputs": [
    {
     "name": "stdout",
     "output_type": "stream",
     "text": [
      "  key1 key2     data1     data2\n",
      "0    a  one -1.102668  0.507776\n",
      "1    a  two  0.298487  1.836702\n",
      "2    b  one -0.388350 -0.135901\n",
      "3    b  two  0.364419 -1.146031\n",
      "4    a  one -1.021791 -0.059971\n",
      "\n",
      "\n",
      "Aggregating using multiple functions:\n",
      "           sum      mean       std\n",
      "key1                              \n",
      "a    -1.825973 -0.608658  0.786650\n",
      "b    -0.023931 -0.011966  0.532288\n",
      "\n",
      "\n",
      "Using a dictionary to define aggregation:\n",
      "         data1     data2\n",
      "key1                    \n",
      "a    -1.825973  0.761503\n",
      "b    -0.023931 -0.640966\n"
     ]
    }
   ],
   "source": [
    "df = pd.DataFrame({'key1': ['a', 'a', 'b', 'b', 'a'],\n",
    "                  'key2': ['one', 'two', 'one', 'two', 'one'],\n",
    "                  'data1': np.random.randn(5),\n",
    "                  'data2': np.random.randn(5)})\n",
    "\n",
    "print(df)\n",
    "grouped = df.groupby('key1')\n",
    "print(\"\\n\\nAggregating using multiple functions:\")\n",
    "print(grouped['data1'].agg([np.sum, np.mean, np.std])) # Notice the agg function becomes the column name\n",
    "\n",
    "print(\"\\n\\nUsing a dictionary to define aggregation:\")\n",
    "print(grouped.agg({'data1': 'sum', 'data2': np.mean}))\n"
   ]
  },
  {
   "cell_type": "code",
   "execution_count": 66,
   "metadata": {},
   "outputs": [
    {
     "ename": "AttributeError",
     "evalue": "'DataFrame' object has no attribute 'value_counts'",
     "output_type": "error",
     "traceback": [
      "\u001b[1;31m---------------------------------------------------------------------------\u001b[0m",
      "\u001b[1;31mAttributeError\u001b[0m                            Traceback (most recent call last)",
      "\u001b[1;32m<ipython-input-66-986e25863b45>\u001b[0m in \u001b[0;36m<module>\u001b[1;34m()\u001b[0m\n\u001b[1;32m----> 1\u001b[1;33m \u001b[0mdf\u001b[0m\u001b[1;33m.\u001b[0m\u001b[0mvalue_counts\u001b[0m\u001b[1;33m(\u001b[0m\u001b[1;33m)\u001b[0m\u001b[1;33m\u001b[0m\u001b[0m\n\u001b[0m",
      "\u001b[1;32m~\\Anaconda3\\envs\\IntroNN\\lib\\site-packages\\pandas\\core\\generic.py\u001b[0m in \u001b[0;36m__getattr__\u001b[1;34m(self, name)\u001b[0m\n\u001b[0;32m   4374\u001b[0m             \u001b[1;32mif\u001b[0m \u001b[0mself\u001b[0m\u001b[1;33m.\u001b[0m\u001b[0m_info_axis\u001b[0m\u001b[1;33m.\u001b[0m\u001b[0m_can_hold_identifiers_and_holds_name\u001b[0m\u001b[1;33m(\u001b[0m\u001b[0mname\u001b[0m\u001b[1;33m)\u001b[0m\u001b[1;33m:\u001b[0m\u001b[1;33m\u001b[0m\u001b[0m\n\u001b[0;32m   4375\u001b[0m                 \u001b[1;32mreturn\u001b[0m \u001b[0mself\u001b[0m\u001b[1;33m[\u001b[0m\u001b[0mname\u001b[0m\u001b[1;33m]\u001b[0m\u001b[1;33m\u001b[0m\u001b[0m\n\u001b[1;32m-> 4376\u001b[1;33m             \u001b[1;32mreturn\u001b[0m \u001b[0mobject\u001b[0m\u001b[1;33m.\u001b[0m\u001b[0m__getattribute__\u001b[0m\u001b[1;33m(\u001b[0m\u001b[0mself\u001b[0m\u001b[1;33m,\u001b[0m \u001b[0mname\u001b[0m\u001b[1;33m)\u001b[0m\u001b[1;33m\u001b[0m\u001b[0m\n\u001b[0m\u001b[0;32m   4377\u001b[0m \u001b[1;33m\u001b[0m\u001b[0m\n\u001b[0;32m   4378\u001b[0m     \u001b[1;32mdef\u001b[0m \u001b[0m__setattr__\u001b[0m\u001b[1;33m(\u001b[0m\u001b[0mself\u001b[0m\u001b[1;33m,\u001b[0m \u001b[0mname\u001b[0m\u001b[1;33m,\u001b[0m \u001b[0mvalue\u001b[0m\u001b[1;33m)\u001b[0m\u001b[1;33m:\u001b[0m\u001b[1;33m\u001b[0m\u001b[0m\n",
      "\u001b[1;31mAttributeError\u001b[0m: 'DataFrame' object has no attribute 'value_counts'"
     ]
    }
   ],
   "source": [
    "df.value_counts()"
   ]
  }
 ],
 "metadata": {
  "kernelspec": {
   "display_name": "Python 3",
   "language": "python",
   "name": "python3"
  },
  "language_info": {
   "codemirror_mode": {
    "name": "ipython",
    "version": 3
   },
   "file_extension": ".py",
   "mimetype": "text/x-python",
   "name": "python",
   "nbconvert_exporter": "python",
   "pygments_lexer": "ipython3",
   "version": "3.7.4"
  }
 },
 "nbformat": 4,
 "nbformat_minor": 4
}
